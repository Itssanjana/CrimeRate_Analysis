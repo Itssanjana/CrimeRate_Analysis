{
  "cells": [
    {
      "cell_type": "markdown",
      "metadata": {
        "id": "jeyORDqTFL3y"
      },
      "source": [
        "# MACHINE LEARNING REVIEW \n",
        "# CRIME PREDICTION "
      ]
    },
    {
      "cell_type": "markdown",
      "metadata": {
        "id": "Eo1EvTvKFL30"
      },
      "source": [
        "IMPORTING THE REQUIRED LIBRARIES"
      ]
    },
    {
      "cell_type": "code",
      "execution_count": null,
      "metadata": {
        "id": "G1Xk9OZEFL30"
      },
      "outputs": [],
      "source": [
        "import pandas as pd \n",
        "import numpy as np\n",
        "import sklearn.metrics as metrics\n",
        "from sklearn.tree import DecisionTreeClassifier, export_graphviz\n",
        "from sklearn import svm\n",
        "from sklearn.model_selection import cross_val_score\n",
        "from sklearn.linear_model import LogisticRegression\n",
        "from  sklearn.linear_model import LinearRegression\n",
        "from sklearn.naive_bayes import GaussianNB\n",
        "from sklearn.model_selection import validation_curve\n",
        "from sklearn.preprocessing import binarize\n",
        "import matplotlib.pyplot as plot\n",
        "from sklearn import linear_model\n",
        "from IPython.display import Image \n",
        "from sklearn.preprocessing import PolynomialFeatures\n",
        "from sklearn import tree\n",
        "import sklearn.preprocessing as prep\n",
        "import pydotplus \n",
        "import math\n",
        "from sklearn.linear_model import RidgeCV\n",
        "import sklearn.linear_model as linear_model\n",
        "from sklearn.model_selection import GridSearchCV\n",
        "from sklearn.cluster import KMeans\n",
        "from sklearn.ensemble import GradientBoostingClassifier\n",
        "from sklearn.ensemble import RandomForestClassifier\n",
        "import matplotlib.pyplot as plt\n",
        "import warnings\n",
        "warnings.filterwarnings('ignore')"
      ]
    },
    {
      "cell_type": "markdown",
      "metadata": {
        "id": "3B7pTxK5FL32"
      },
      "source": [
        "IMPORTING THE DATASET "
      ]
    },
    {
      "cell_type": "code",
      "execution_count": null,
      "metadata": {
        "id": "HGAZ2muoFL32"
      },
      "outputs": [],
      "source": [
        "df=pd.read_csv('communities-crime-clean.csv')\n",
        "df['highCrime'] = np.where(df['ViolentCrimesPerPop']>0.1, 1, 0)"
      ]
    },
    {
      "cell_type": "markdown",
      "metadata": {
        "id": "GlY9IIQdFL32"
      },
      "source": [
        "PERFORMING EXPLORATORY DATA ANALYSIS"
      ]
    },
    {
      "cell_type": "code",
      "execution_count": null,
      "metadata": {
        "id": "HGv7N6FxFL33",
        "outputId": "6bdc5869-fa19-40e7-b1fe-1853843cfe5a"
      },
      "outputs": [
        {
          "data": {
            "text/html": [
              "<div>\n",
              "<style scoped>\n",
              "    .dataframe tbody tr th:only-of-type {\n",
              "        vertical-align: middle;\n",
              "    }\n",
              "\n",
              "    .dataframe tbody tr th {\n",
              "        vertical-align: top;\n",
              "    }\n",
              "\n",
              "    .dataframe thead th {\n",
              "        text-align: right;\n",
              "    }\n",
              "</style>\n",
              "<table border=\"1\" class=\"dataframe\">\n",
              "  <thead>\n",
              "    <tr style=\"text-align: right;\">\n",
              "      <th></th>\n",
              "      <th>state</th>\n",
              "      <th>communityname</th>\n",
              "      <th>fold</th>\n",
              "      <th>population</th>\n",
              "      <th>householdsize</th>\n",
              "      <th>racepctblack</th>\n",
              "      <th>racePctWhite</th>\n",
              "      <th>racePctAsian</th>\n",
              "      <th>racePctHisp</th>\n",
              "      <th>agePct12t21</th>\n",
              "      <th>...</th>\n",
              "      <th>PctBornSameState</th>\n",
              "      <th>PctSameHouse85</th>\n",
              "      <th>PctSameCity85</th>\n",
              "      <th>PctSameState85</th>\n",
              "      <th>LandArea</th>\n",
              "      <th>PopDens</th>\n",
              "      <th>PctUsePubTrans</th>\n",
              "      <th>LemasPctOfficDrugUn</th>\n",
              "      <th>ViolentCrimesPerPop</th>\n",
              "      <th>highCrime</th>\n",
              "    </tr>\n",
              "  </thead>\n",
              "  <tbody>\n",
              "    <tr>\n",
              "      <th>0</th>\n",
              "      <td>1</td>\n",
              "      <td>Alabastercity</td>\n",
              "      <td>7</td>\n",
              "      <td>0.01</td>\n",
              "      <td>0.61</td>\n",
              "      <td>0.21</td>\n",
              "      <td>0.83</td>\n",
              "      <td>0.02</td>\n",
              "      <td>0.01</td>\n",
              "      <td>0.41</td>\n",
              "      <td>...</td>\n",
              "      <td>0.70</td>\n",
              "      <td>0.40</td>\n",
              "      <td>0.34</td>\n",
              "      <td>0.57</td>\n",
              "      <td>0.05</td>\n",
              "      <td>0.06</td>\n",
              "      <td>0.01</td>\n",
              "      <td>0.0</td>\n",
              "      <td>0.06</td>\n",
              "      <td>0</td>\n",
              "    </tr>\n",
              "    <tr>\n",
              "      <th>1</th>\n",
              "      <td>1</td>\n",
              "      <td>AlexanderCitycity</td>\n",
              "      <td>10</td>\n",
              "      <td>0.01</td>\n",
              "      <td>0.41</td>\n",
              "      <td>0.55</td>\n",
              "      <td>0.57</td>\n",
              "      <td>0.01</td>\n",
              "      <td>0.00</td>\n",
              "      <td>0.47</td>\n",
              "      <td>...</td>\n",
              "      <td>0.93</td>\n",
              "      <td>0.66</td>\n",
              "      <td>0.82</td>\n",
              "      <td>0.84</td>\n",
              "      <td>0.11</td>\n",
              "      <td>0.03</td>\n",
              "      <td>0.01</td>\n",
              "      <td>0.0</td>\n",
              "      <td>0.14</td>\n",
              "      <td>1</td>\n",
              "    </tr>\n",
              "    <tr>\n",
              "      <th>2</th>\n",
              "      <td>1</td>\n",
              "      <td>Annistoncity</td>\n",
              "      <td>3</td>\n",
              "      <td>0.03</td>\n",
              "      <td>0.34</td>\n",
              "      <td>0.86</td>\n",
              "      <td>0.30</td>\n",
              "      <td>0.04</td>\n",
              "      <td>0.01</td>\n",
              "      <td>0.41</td>\n",
              "      <td>...</td>\n",
              "      <td>0.77</td>\n",
              "      <td>0.59</td>\n",
              "      <td>0.70</td>\n",
              "      <td>0.64</td>\n",
              "      <td>0.06</td>\n",
              "      <td>0.11</td>\n",
              "      <td>0.04</td>\n",
              "      <td>0.0</td>\n",
              "      <td>1.00</td>\n",
              "      <td>1</td>\n",
              "    </tr>\n",
              "    <tr>\n",
              "      <th>3</th>\n",
              "      <td>1</td>\n",
              "      <td>Athenscity</td>\n",
              "      <td>8</td>\n",
              "      <td>0.01</td>\n",
              "      <td>0.38</td>\n",
              "      <td>0.35</td>\n",
              "      <td>0.71</td>\n",
              "      <td>0.04</td>\n",
              "      <td>0.01</td>\n",
              "      <td>0.39</td>\n",
              "      <td>...</td>\n",
              "      <td>0.78</td>\n",
              "      <td>0.56</td>\n",
              "      <td>0.67</td>\n",
              "      <td>0.71</td>\n",
              "      <td>0.09</td>\n",
              "      <td>0.05</td>\n",
              "      <td>0.00</td>\n",
              "      <td>0.0</td>\n",
              "      <td>0.23</td>\n",
              "      <td>1</td>\n",
              "    </tr>\n",
              "    <tr>\n",
              "      <th>4</th>\n",
              "      <td>1</td>\n",
              "      <td>Auburncity</td>\n",
              "      <td>1</td>\n",
              "      <td>0.04</td>\n",
              "      <td>0.37</td>\n",
              "      <td>0.32</td>\n",
              "      <td>0.70</td>\n",
              "      <td>0.21</td>\n",
              "      <td>0.02</td>\n",
              "      <td>1.00</td>\n",
              "      <td>...</td>\n",
              "      <td>0.49</td>\n",
              "      <td>0.12</td>\n",
              "      <td>0.00</td>\n",
              "      <td>0.15</td>\n",
              "      <td>0.09</td>\n",
              "      <td>0.09</td>\n",
              "      <td>0.01</td>\n",
              "      <td>0.0</td>\n",
              "      <td>0.15</td>\n",
              "      <td>1</td>\n",
              "    </tr>\n",
              "    <tr>\n",
              "      <th>...</th>\n",
              "      <td>...</td>\n",
              "      <td>...</td>\n",
              "      <td>...</td>\n",
              "      <td>...</td>\n",
              "      <td>...</td>\n",
              "      <td>...</td>\n",
              "      <td>...</td>\n",
              "      <td>...</td>\n",
              "      <td>...</td>\n",
              "      <td>...</td>\n",
              "      <td>...</td>\n",
              "      <td>...</td>\n",
              "      <td>...</td>\n",
              "      <td>...</td>\n",
              "      <td>...</td>\n",
              "      <td>...</td>\n",
              "      <td>...</td>\n",
              "      <td>...</td>\n",
              "      <td>...</td>\n",
              "      <td>...</td>\n",
              "      <td>...</td>\n",
              "    </tr>\n",
              "    <tr>\n",
              "      <th>1988</th>\n",
              "      <td>56</td>\n",
              "      <td>Gillettecity</td>\n",
              "      <td>9</td>\n",
              "      <td>0.01</td>\n",
              "      <td>0.53</td>\n",
              "      <td>0.00</td>\n",
              "      <td>0.96</td>\n",
              "      <td>0.02</td>\n",
              "      <td>0.06</td>\n",
              "      <td>0.47</td>\n",
              "      <td>...</td>\n",
              "      <td>0.32</td>\n",
              "      <td>0.34</td>\n",
              "      <td>0.56</td>\n",
              "      <td>0.55</td>\n",
              "      <td>0.04</td>\n",
              "      <td>0.11</td>\n",
              "      <td>0.11</td>\n",
              "      <td>0.0</td>\n",
              "      <td>0.15</td>\n",
              "      <td>1</td>\n",
              "    </tr>\n",
              "    <tr>\n",
              "      <th>1989</th>\n",
              "      <td>56</td>\n",
              "      <td>GreenRivercity</td>\n",
              "      <td>9</td>\n",
              "      <td>0.00</td>\n",
              "      <td>0.67</td>\n",
              "      <td>0.01</td>\n",
              "      <td>0.91</td>\n",
              "      <td>0.03</td>\n",
              "      <td>0.21</td>\n",
              "      <td>0.56</td>\n",
              "      <td>...</td>\n",
              "      <td>0.35</td>\n",
              "      <td>0.55</td>\n",
              "      <td>0.70</td>\n",
              "      <td>0.58</td>\n",
              "      <td>0.03</td>\n",
              "      <td>0.09</td>\n",
              "      <td>0.77</td>\n",
              "      <td>0.0</td>\n",
              "      <td>0.06</td>\n",
              "      <td>0</td>\n",
              "    </tr>\n",
              "    <tr>\n",
              "      <th>1990</th>\n",
              "      <td>56</td>\n",
              "      <td>Laramiecity</td>\n",
              "      <td>3</td>\n",
              "      <td>0.03</td>\n",
              "      <td>0.40</td>\n",
              "      <td>0.02</td>\n",
              "      <td>0.90</td>\n",
              "      <td>0.14</td>\n",
              "      <td>0.12</td>\n",
              "      <td>0.89</td>\n",
              "      <td>...</td>\n",
              "      <td>0.37</td>\n",
              "      <td>0.24</td>\n",
              "      <td>0.18</td>\n",
              "      <td>0.34</td>\n",
              "      <td>0.03</td>\n",
              "      <td>0.20</td>\n",
              "      <td>0.02</td>\n",
              "      <td>0.0</td>\n",
              "      <td>0.12</td>\n",
              "      <td>1</td>\n",
              "    </tr>\n",
              "    <tr>\n",
              "      <th>1991</th>\n",
              "      <td>56</td>\n",
              "      <td>RockSpringscity</td>\n",
              "      <td>7</td>\n",
              "      <td>0.01</td>\n",
              "      <td>0.45</td>\n",
              "      <td>0.02</td>\n",
              "      <td>0.92</td>\n",
              "      <td>0.06</td>\n",
              "      <td>0.14</td>\n",
              "      <td>0.48</td>\n",
              "      <td>...</td>\n",
              "      <td>0.46</td>\n",
              "      <td>0.59</td>\n",
              "      <td>0.75</td>\n",
              "      <td>0.71</td>\n",
              "      <td>0.05</td>\n",
              "      <td>0.09</td>\n",
              "      <td>0.32</td>\n",
              "      <td>0.0</td>\n",
              "      <td>0.27</td>\n",
              "      <td>1</td>\n",
              "    </tr>\n",
              "    <tr>\n",
              "      <th>1992</th>\n",
              "      <td>56</td>\n",
              "      <td>Sheridancity</td>\n",
              "      <td>8</td>\n",
              "      <td>0.01</td>\n",
              "      <td>0.29</td>\n",
              "      <td>0.00</td>\n",
              "      <td>0.97</td>\n",
              "      <td>0.03</td>\n",
              "      <td>0.04</td>\n",
              "      <td>0.40</td>\n",
              "      <td>...</td>\n",
              "      <td>0.45</td>\n",
              "      <td>0.49</td>\n",
              "      <td>0.63</td>\n",
              "      <td>0.57</td>\n",
              "      <td>0.02</td>\n",
              "      <td>0.15</td>\n",
              "      <td>0.00</td>\n",
              "      <td>0.0</td>\n",
              "      <td>0.06</td>\n",
              "      <td>0</td>\n",
              "    </tr>\n",
              "  </tbody>\n",
              "</table>\n",
              "<p>1993 rows × 105 columns</p>\n",
              "</div>"
            ],
            "text/plain": [
              "      state      communityname  fold  population  householdsize  racepctblack  \\\n",
              "0         1      Alabastercity     7        0.01           0.61          0.21   \n",
              "1         1  AlexanderCitycity    10        0.01           0.41          0.55   \n",
              "2         1       Annistoncity     3        0.03           0.34          0.86   \n",
              "3         1         Athenscity     8        0.01           0.38          0.35   \n",
              "4         1         Auburncity     1        0.04           0.37          0.32   \n",
              "...     ...                ...   ...         ...            ...           ...   \n",
              "1988     56       Gillettecity     9        0.01           0.53          0.00   \n",
              "1989     56     GreenRivercity     9        0.00           0.67          0.01   \n",
              "1990     56        Laramiecity     3        0.03           0.40          0.02   \n",
              "1991     56    RockSpringscity     7        0.01           0.45          0.02   \n",
              "1992     56       Sheridancity     8        0.01           0.29          0.00   \n",
              "\n",
              "      racePctWhite  racePctAsian  racePctHisp  agePct12t21  ...  \\\n",
              "0             0.83          0.02         0.01         0.41  ...   \n",
              "1             0.57          0.01         0.00         0.47  ...   \n",
              "2             0.30          0.04         0.01         0.41  ...   \n",
              "3             0.71          0.04         0.01         0.39  ...   \n",
              "4             0.70          0.21         0.02         1.00  ...   \n",
              "...            ...           ...          ...          ...  ...   \n",
              "1988          0.96          0.02         0.06         0.47  ...   \n",
              "1989          0.91          0.03         0.21         0.56  ...   \n",
              "1990          0.90          0.14         0.12         0.89  ...   \n",
              "1991          0.92          0.06         0.14         0.48  ...   \n",
              "1992          0.97          0.03         0.04         0.40  ...   \n",
              "\n",
              "      PctBornSameState  PctSameHouse85  PctSameCity85  PctSameState85  \\\n",
              "0                 0.70            0.40           0.34            0.57   \n",
              "1                 0.93            0.66           0.82            0.84   \n",
              "2                 0.77            0.59           0.70            0.64   \n",
              "3                 0.78            0.56           0.67            0.71   \n",
              "4                 0.49            0.12           0.00            0.15   \n",
              "...                ...             ...            ...             ...   \n",
              "1988              0.32            0.34           0.56            0.55   \n",
              "1989              0.35            0.55           0.70            0.58   \n",
              "1990              0.37            0.24           0.18            0.34   \n",
              "1991              0.46            0.59           0.75            0.71   \n",
              "1992              0.45            0.49           0.63            0.57   \n",
              "\n",
              "      LandArea  PopDens  PctUsePubTrans  LemasPctOfficDrugUn  \\\n",
              "0         0.05     0.06            0.01                  0.0   \n",
              "1         0.11     0.03            0.01                  0.0   \n",
              "2         0.06     0.11            0.04                  0.0   \n",
              "3         0.09     0.05            0.00                  0.0   \n",
              "4         0.09     0.09            0.01                  0.0   \n",
              "...        ...      ...             ...                  ...   \n",
              "1988      0.04     0.11            0.11                  0.0   \n",
              "1989      0.03     0.09            0.77                  0.0   \n",
              "1990      0.03     0.20            0.02                  0.0   \n",
              "1991      0.05     0.09            0.32                  0.0   \n",
              "1992      0.02     0.15            0.00                  0.0   \n",
              "\n",
              "      ViolentCrimesPerPop  highCrime  \n",
              "0                    0.06          0  \n",
              "1                    0.14          1  \n",
              "2                    1.00          1  \n",
              "3                    0.23          1  \n",
              "4                    0.15          1  \n",
              "...                   ...        ...  \n",
              "1988                 0.15          1  \n",
              "1989                 0.06          0  \n",
              "1990                 0.12          1  \n",
              "1991                 0.27          1  \n",
              "1992                 0.06          0  \n",
              "\n",
              "[1993 rows x 105 columns]"
            ]
          },
          "execution_count": 3,
          "metadata": {},
          "output_type": "execute_result"
        }
      ],
      "source": [
        "df"
      ]
    },
    {
      "cell_type": "code",
      "execution_count": null,
      "metadata": {
        "id": "x_XZk3CZFL34",
        "outputId": "b5879b58-36ed-468c-b331-78f2a3be3482"
      },
      "outputs": [
        {
          "data": {
            "text/plain": [
              "state                  0\n",
              "communityname          0\n",
              "fold                   0\n",
              "population             0\n",
              "householdsize          0\n",
              "                      ..\n",
              "PopDens                0\n",
              "PctUsePubTrans         0\n",
              "LemasPctOfficDrugUn    0\n",
              "ViolentCrimesPerPop    0\n",
              "highCrime              0\n",
              "Length: 105, dtype: int64"
            ]
          },
          "execution_count": 4,
          "metadata": {},
          "output_type": "execute_result"
        }
      ],
      "source": [
        "df.isnull().sum()"
      ]
    },
    {
      "cell_type": "markdown",
      "metadata": {
        "id": "t1h501qMFL34"
      },
      "source": [
        "There are no missing values as we have took the clean communities crime dataset."
      ]
    },
    {
      "cell_type": "code",
      "execution_count": null,
      "metadata": {
        "id": "_ibbygXbFL34",
        "outputId": "cb75d268-8a49-408c-9b3d-f0aa50f0f63d"
      },
      "outputs": [
        {
          "data": {
            "text/plain": [
              "0       0\n",
              "1       1\n",
              "2       1\n",
              "3       1\n",
              "4       1\n",
              "       ..\n",
              "1988    1\n",
              "1989    0\n",
              "1990    1\n",
              "1991    1\n",
              "1992    0\n",
              "Name: highCrime, Length: 1993, dtype: int32"
            ]
          },
          "execution_count": 5,
          "metadata": {},
          "output_type": "execute_result"
        }
      ],
      "source": [
        "df['highCrime']"
      ]
    },
    {
      "cell_type": "markdown",
      "metadata": {
        "id": "LTpjo5TfFL35"
      },
      "source": [
        " After Creating  a new field “highCrime” which is true if the crime rate per capita (ViolentCrimesPerPop) is greater than 0.1, and false otherwise."
      ]
    },
    {
      "cell_type": "markdown",
      "metadata": {
        "id": "sJXxEECLFL35"
      },
      "source": [
        "# Decision tree"
      ]
    },
    {
      "cell_type": "code",
      "execution_count": null,
      "metadata": {
        "id": "Wp2i-jhdFL35",
        "outputId": "e6098d67-0f0f-43ae-c5bf-d5a5d7a95af0"
      },
      "outputs": [
        {
          "name": "stdout",
          "output_type": "stream",
          "text": [
            "What are the percentage of positive and negative values in the dataset?\n",
            "positive instance percentage is  0.6271951831409934\n",
            "negative instance percentage is  0.37280481685900657\n"
          ]
        }
      ],
      "source": [
        "print('What are the percentage of positive and negative values in the dataset?')\n",
        "pos=df[(df['highCrime'] == 1)]\n",
        "pos_percentage=len(pos)/len(df)\n",
        "neg_percentage=1-pos_percentage\n",
        "print('positive instance percentage is ',pos_percentage)\n",
        "print('negative instance percentage is ',neg_percentage)"
      ]
    },
    {
      "cell_type": "code",
      "execution_count": null,
      "metadata": {
        "id": "D1XWHQ99FL36",
        "outputId": "888e62d3-b07f-47e9-c034-7a443977bfa6"
      },
      "outputs": [
        {
          "name": "stdout",
          "output_type": "stream",
          "text": [
            "Requirement already satisfied: graphviz in c:\\users\\user\\anaconda3\\lib\\site-packages (0.16)\n",
            "Note: you may need to restart the kernel to use updated packages.\n"
          ]
        },
        {
          "name": "stderr",
          "output_type": "stream",
          "text": [
            "WARNING: Ignoring invalid distribution -umpy (c:\\users\\user\\anaconda3\\lib\\site-packages)\n",
            "WARNING: Ignoring invalid distribution -atplotlib (c:\\users\\user\\anaconda3\\lib\\site-packages)\n",
            "WARNING: Ignoring invalid distribution -umpy (c:\\users\\user\\anaconda3\\lib\\site-packages)\n",
            "WARNING: Ignoring invalid distribution -atplotlib (c:\\users\\user\\anaconda3\\lib\\site-packages)\n",
            "WARNING: Ignoring invalid distribution -umpy (c:\\users\\user\\anaconda3\\lib\\site-packages)\n",
            "WARNING: Ignoring invalid distribution -atplotlib (c:\\users\\user\\anaconda3\\lib\\site-packages)\n",
            "WARNING: Ignoring invalid distribution -umpy (c:\\users\\user\\anaconda3\\lib\\site-packages)\n",
            "WARNING: Ignoring invalid distribution -atplotlib (c:\\users\\user\\anaconda3\\lib\\site-packages)\n"
          ]
        }
      ],
      "source": [
        "pip install graphviz"
      ]
    },
    {
      "cell_type": "code",
      "execution_count": null,
      "metadata": {
        "id": "rXTWUSzNFL37",
        "outputId": "d60ee24c-ce7f-46dc-eaf5-aee791aca3ef"
      },
      "outputs": [
        {
          "name": "stdout",
          "output_type": "stream",
          "text": [
            "Requirement already satisfied: pydotplus in c:\\users\\user\\anaconda3\\lib\\site-packages (2.0.2)\n",
            "Requirement already satisfied: pyparsing>=2.0.1 in c:\\users\\user\\anaconda3\\lib\\site-packages (from pydotplus) (2.4.6)\n"
          ]
        },
        {
          "name": "stderr",
          "output_type": "stream",
          "text": [
            "WARNING: Ignoring invalid distribution -umpy (c:\\users\\user\\anaconda3\\lib\\site-packages)\n",
            "WARNING: Ignoring invalid distribution -atplotlib (c:\\users\\user\\anaconda3\\lib\\site-packages)\n",
            "WARNING: Ignoring invalid distribution -umpy (c:\\users\\user\\anaconda3\\lib\\site-packages)\n",
            "WARNING: Ignoring invalid distribution -atplotlib (c:\\users\\user\\anaconda3\\lib\\site-packages)\n",
            "WARNING: Ignoring invalid distribution -umpy (c:\\users\\user\\anaconda3\\lib\\site-packages)\n",
            "WARNING: Ignoring invalid distribution -atplotlib (c:\\users\\user\\anaconda3\\lib\\site-packages)\n",
            "WARNING: Ignoring invalid distribution -umpy (c:\\users\\user\\anaconda3\\lib\\site-packages)\n",
            "WARNING: Ignoring invalid distribution -atplotlib (c:\\users\\user\\anaconda3\\lib\\site-packages)\n"
          ]
        }
      ],
      "source": [
        "!pip install pydotplus"
      ]
    },
    {
      "cell_type": "code",
      "execution_count": null,
      "metadata": {
        "id": "IhQ-NZaKFL37"
      },
      "outputs": [],
      "source": [
        "# Import necessary libraries for graph viz\n",
        " \n",
        "from IPython.display import Image  \n",
        "from sklearn.tree import export_graphviz\n",
        "import pydotplus"
      ]
    },
    {
      "cell_type": "code",
      "execution_count": null,
      "metadata": {
        "id": "MSlSauGZFL37",
        "outputId": "dc84167e-e569-41be-ca74-ad950f47473c"
      },
      "outputs": [
        {
          "data": {
            "text/plain": [
              "<pydotplus.graphviz.Dot at 0x21aa2d3e9c8>"
            ]
          },
          "execution_count": 10,
          "metadata": {},
          "output_type": "execute_result"
        }
      ],
      "source": [
        "from sklearn.model_selection import cross_val_score\n",
        "from sklearn import tree\n",
        "initial=pd.read_csv('communities-crime-clean.csv')\n",
        "initial = initial.drop('communityname', 1)\n",
        "initial = initial.drop('ViolentCrimesPerPop', 1)\n",
        "initial = initial.drop('fold', 1)\n",
        "\n",
        "initial = initial.drop('state', 1)\n",
        "Y = df['highCrime']\n",
        "clf = tree.DecisionTreeClassifier(max_depth=3)\n",
        "#clf = tree.DecisionTreeClassifier()\n",
        "clf = clf.fit(initial, Y)\n",
        "clf\n",
        "y_pred = clf.predict(initial)\n",
        "list(initial)\n",
        "feature_name=list(initial)\n",
        "import pydotplus \n",
        "from IPython.display import Image \n",
        "classname=['High','Low']\n",
        "dot_data = tree.export_graphviz(clf, out_file=None, \n",
        "                         feature_names=list(initial),  \n",
        "                         class_names=classname,  \n",
        "                         filled=True, rounded=True,  \n",
        "                         special_characters=True)  \n",
        "graph = pydotplus.graph_from_dot_data(dot_data)  \n",
        "graph"
      ]
    },
    {
      "cell_type": "markdown",
      "metadata": {
        "id": "lOLiOP0MFL38"
      },
      "source": [
        "![IMG-20211118-WA0003.jpg](attachment:IMG-20211118-WA0003.jpg)"
      ]
    },
    {
      "cell_type": "markdown",
      "metadata": {
        "id": "yJoZ9iK6FL38"
      },
      "source": [
        "Applying cross-validation (cross_val_score) to do 10-fold cross-validation to estimate the out-of-training accuracy of decision tree learning for this task."
      ]
    },
    {
      "cell_type": "code",
      "execution_count": null,
      "metadata": {
        "id": "Mi6WOMUpFL38",
        "outputId": "c29e9930-64cd-4e2a-af8d-adf271070802"
      },
      "outputs": [
        {
          "name": "stdout",
          "output_type": "stream",
          "text": [
            "cross_val_accuracy is  [0.79       0.875      0.83       0.84924623 0.65326633 0.75879397\n",
            " 0.84924623 0.7839196  0.79396985 0.79899497]\n",
            "cross_val_accuracy_avg is  0.7982437185929648\n",
            "cross_val_precision is  [0.78231293 0.85211268 0.84210526 0.88       0.75454545 0.88118812\n",
            " 0.85185185 0.94565217 0.79166667 0.85123967]\n",
            "cross_val_precision_avg is  0.8432674799594686\n",
            "cross_val_recall is  [0.92  0.968 0.896 0.88  0.664 0.712 0.92  0.696 0.912 0.824]\n",
            "cross_val_recall_avg is  0.8392\n"
          ]
        }
      ],
      "source": [
        "from sklearn.model_selection import cross_val_score\n",
        "fold=df['fold']\n",
        "scores = cross_val_score(clf, initial, Y,fold,'accuracy',10)\n",
        "print('cross_val_accuracy is ',scores) \n",
        "print('cross_val_accuracy_avg is ',np.array(scores).mean()) \n",
        "scores = cross_val_score(clf, initial, Y,fold,'precision',10)\n",
        "print('cross_val_precision is ',scores) \n",
        "print('cross_val_precision_avg is ',np.array(scores).mean()) \n",
        "scores = cross_val_score(clf, initial, Y,fold,'recall',10)\n",
        "print('cross_val_recall is ',scores) \n",
        "print('cross_val_recall_avg is ',np.array(scores).mean())"
      ]
    },
    {
      "cell_type": "code",
      "execution_count": null,
      "metadata": {
        "id": "GJNy-ZvdFL39",
        "outputId": "351de560-5c51-42a5-d281-65ac964c600a"
      },
      "outputs": [
        {
          "name": "stdout",
          "output_type": "stream",
          "text": [
            "Accuracy is 83.59257400903161\n",
            "Precesion is 90.02601908065915\n",
            "Recall is 83.04\n"
          ]
        }
      ],
      "source": [
        "from sklearn.metrics import accuracy_score\n",
        "Decision_tree_accuracy= accuracy_score(Y,y_pred)*100\n",
        "print ('Accuracy is', accuracy_score(Y,y_pred)*100)\n",
        "from sklearn.metrics import precision_score\n",
        "print ('Precesion is', precision_score(Y,y_pred)*100)\n",
        "from sklearn.metrics import recall_score\n",
        "print ('Recall is', recall_score(Y,y_pred)*100)"
      ]
    },
    {
      "cell_type": "code",
      "execution_count": null,
      "metadata": {
        "id": "2KBq5o5NFL39",
        "outputId": "dd46ca95-10f6-4b34-9311-f2ea9a2871ee"
      },
      "outputs": [
        {
          "data": {
            "image/png": "[encoded data removed]",
            "text/plain": [
              "<Figure size 432x288 with 1 Axes>"
            ]
          },
          "metadata": {
            "needs_background": "light"
          },
          "output_type": "display_data"
        },
        {
          "name": "stdout",
          "output_type": "stream",
          "text": [
            " [0.7611130653266331, 0.7756934673366834, 0.7982437185929648, 0.7872311557788946, 0.7811984924623114, 0.7671507537688442, 0.7646306532663316, 0.7500577889447235, 0.7440577889447236, 0.7395577889447236, 0.7325201005025125, 0.7264924623115577, 0.7340276381909547, 0.7265075376884422, 0.7284974874371859]\n"
          ]
        }
      ],
      "source": [
        "y=[]\n",
        "x=[]\n",
        "for i in range (1,16):\n",
        "    clf = tree.DecisionTreeClassifier(max_depth=i)\n",
        "    clf = clf.fit(initial, Y)\n",
        "    y_pred = clf.predict(initial)\n",
        "    scores = cross_val_score(clf, initial, Y,None,'accuracy',cv=10)\n",
        "    y.append(np.array(scores).mean())\n",
        "    x.append(i)\n",
        "\n",
        "    \n",
        "plt.plot(x, y)\n",
        "\n",
        "plt.show()\n",
        "\n",
        "print('',y)"
      ]
    },
    {
      "cell_type": "markdown",
      "metadata": {
        "id": "Z1DSAeywFL3-"
      },
      "source": [
        "# Linear svc"
      ]
    },
    {
      "cell_type": "code",
      "execution_count": null,
      "metadata": {
        "id": "VXA-eg9XFL3-",
        "outputId": "7c26c580-9959-417d-9bfa-10ed270076fe"
      },
      "outputs": [
        {
          "name": "stdout",
          "output_type": "stream",
          "text": [
            "ind is  [29 44  3  5]\n",
            "4_max_normalized_feature is  [0.02082369 0.3676667  0.08646058 0.04512009]\n",
            "29\n",
            "feature_name[index] is  PctLess9thGrade\n",
            "44\n",
            "feature_name[index] is  PctKids2Par\n",
            "3\n",
            "feature_name[index] is  racePctWhite\n",
            "5\n",
            "feature_name[index] is  racePctHisp\n"
          ]
        }
      ],
      "source": [
        "feature_selection = clf.feature_importances_ \n",
        "   \n",
        "\n",
        "ind = np.argpartition(feature_selection, -4)[-4:]\n",
        "\n",
        "print('ind is ',ind)\n",
        "print('4_max_normalized_feature is ',feature_selection[ind])\n",
        "\n",
        "for x in range(0, len(ind)):\n",
        "    index=ind[x]\n",
        "    print(index)\n",
        "    print('feature_name[index] is ',feature_name[index])"
      ]
    },
    {
      "cell_type": "code",
      "execution_count": null,
      "metadata": {
        "id": "_ff0ROFSFL3-",
        "outputId": "e5c17019-bfc5-486f-854e-03558c8fb9db"
      },
      "outputs": [
        {
          "name": "stdout",
          "output_type": "stream",
          "text": [
            " [0.         0.         0.53443914 0.         0.         0.37470842\n",
            " 0.         0.         0.         0.         0.         0.09988789\n",
            " 0.         0.         0.         0.         0.         0.\n",
            " 0.         0.         0.         0.         0.         0.\n",
            " 0.         0.         0.         0.         0.         0.\n",
            " 0.         0.         0.         0.         0.         0.\n",
            " 0.         0.         0.         0.         0.32881534 0.99863829\n",
            " 0.         0.         1.10323954 0.         0.         0.\n",
            " 0.         0.         0.09271033 0.         0.         0.\n",
            " 0.         0.         0.         0.         0.         0.\n",
            " 0.         0.         0.         0.         0.         0.\n",
            " 0.         0.         0.46793004 0.         0.         0.\n",
            " 0.         0.         0.         0.         0.         0.\n",
            " 0.         0.         0.         0.         0.         0.\n",
            " 0.         0.         0.         0.         0.         0.\n",
            " 0.         0.         0.         0.         0.         0.\n",
            " 0.         0.         0.         0.        ]\n",
            "select_feature_is  racepctblack  feature_weight is  0.5344391446412068\n",
            "select_feature_is  racePctHisp  feature_weight is  0.3747084179497017\n",
            "select_feature_is  pctUrban  feature_weight is  0.09988789316592254\n",
            "select_feature_is  FemalePctDiv  feature_weight is  0.328815339797298\n",
            "select_feature_is  TotalPctDiv  feature_weight is  0.9986382891474798\n",
            "select_feature_is  PctKids2Par  feature_weight is  1.1032395421236603\n",
            "select_feature_is  PctIlleg  feature_weight is  0.09271032659455271\n",
            "select_feature_is  PctPersDenseHous  feature_weight is  0.4679300358382677\n"
          ]
        }
      ],
      "source": [
        "#linear svc\n",
        "from sklearn import svm\n",
        "lin_svc = svm.LinearSVC(C=0.01447, penalty=\"l1\", dual=False).fit(initial, Y)\n",
        "# using L1-norm (sparsity method) to make unless feature weight become 0 , C value increase->more complex model having more weight\n",
        "feature_weight=abs(lin_svc.coef_[0])\n",
        "print(\"\",feature_weight)\n",
        "for i in range(0,len(feature_weight)):\n",
        "    if(feature_weight[i]!=0):\n",
        "        print('select_feature_is ',feature_name[i], ' feature_weight is ', feature_weight[i])\n",
        "\n",
        "\n",
        "\n",
        "from sklearn.model_selection import cross_val_score\n",
        "fold=df['fold']\n",
        "scores = cross_val_score(lin_svc, initial, Y,fold,'accuracy',10)\n",
        "scores\n",
        "SVC_accuracy=np.array(scores).mean() * 100"
      ]
    },
    {
      "cell_type": "code",
      "execution_count": null,
      "metadata": {
        "id": "Z0MFEGWFFL3_",
        "outputId": "dc055738-a853-4cc6-cc80-6edc7dc538a9"
      },
      "outputs": [
        {
          "name": "stdout",
          "output_type": "stream",
          "text": [
            "cross_val_accuracy is  [0.78       0.875      0.87       0.85929648 0.73366834 0.70351759\n",
            " 0.77386935 0.85427136 0.84422111 0.79899497]\n",
            "cross_val_accuracy_avg is  0.8092839195979898\n"
          ]
        }
      ],
      "source": [
        "print('cross_val_accuracy is ',scores) \n",
        "print('cross_val_accuracy_avg is ',np.array(scores).mean()) \n"
      ]
    },
    {
      "cell_type": "code",
      "execution_count": null,
      "metadata": {
        "id": "9bJu90OPFL3_",
        "outputId": "4daaba35-23f3-41ed-83ad-8c0d14016440"
      },
      "outputs": [
        {
          "data": {
            "text/plain": [
              "array([0.76282051, 0.85211268, 0.890625  , 0.87596899, 0.90909091,\n",
              "       0.81553398, 0.78169014, 0.96153846, 0.82068966, 0.81021898])"
            ]
          },
          "execution_count": 17,
          "metadata": {},
          "output_type": "execute_result"
        }
      ],
      "source": [
        "\n",
        "scores = cross_val_score(lin_svc, initial, Y,fold,'precision',10)\n",
        "scores"
      ]
    },
    {
      "cell_type": "code",
      "execution_count": null,
      "metadata": {
        "id": "OMYAhZJDFL3_",
        "outputId": "252f6200-a88e-4963-e58c-6120d1e8da73"
      },
      "outputs": [
        {
          "name": "stdout",
          "output_type": "stream",
          "text": [
            "cross_val_precision is  [0.76282051 0.85211268 0.890625   0.87596899 0.90909091 0.81553398\n",
            " 0.78169014 0.96153846 0.82068966 0.81021898]\n",
            "cross_val_precision_avg is  0.8480289306456482\n"
          ]
        }
      ],
      "source": [
        "print('cross_val_precision is ',scores) \n",
        "print('cross_val_precision_avg is ',np.array(scores).mean()) \n"
      ]
    },
    {
      "cell_type": "code",
      "execution_count": null,
      "metadata": {
        "id": "el22sD6bFL3_",
        "outputId": "26a992c8-493f-4a3b-9cee-33fa09db0c11"
      },
      "outputs": [
        {
          "data": {
            "text/plain": [
              "array([0.944, 0.968, 0.912, 0.904, 0.64 , 0.688, 0.88 , 0.8  , 0.952,\n",
              "       0.888])"
            ]
          },
          "execution_count": 19,
          "metadata": {},
          "output_type": "execute_result"
        }
      ],
      "source": [
        "\n",
        "scores = cross_val_score(lin_svc, initial, Y,fold,'recall',10)\n",
        "scores\n"
      ]
    },
    {
      "cell_type": "code",
      "execution_count": null,
      "metadata": {
        "id": "CIu5mLc3FL4A",
        "outputId": "b60f70b6-ca72-4172-df5b-d2b170599ab9"
      },
      "outputs": [
        {
          "name": "stdout",
          "output_type": "stream",
          "text": [
            "cross_val_recall is  [0.944 0.968 0.912 0.904 0.64  0.688 0.88  0.8   0.952 0.888]\n",
            "cross_val_recall_avg is  0.8576\n"
          ]
        }
      ],
      "source": [
        "\n",
        "print('cross_val_recall is ',scores) \n",
        "print('cross_val_recall_avg is ',np.array(scores).mean())"
      ]
    },
    {
      "cell_type": "markdown",
      "metadata": {
        "id": "XPw7T39OFL4A"
      },
      "source": [
        "# KNN"
      ]
    },
    {
      "cell_type": "code",
      "execution_count": null,
      "metadata": {
        "id": "y6WBBNQnFL4A",
        "outputId": "4a02fcb3-55a7-4c3b-a0f1-8d80f3bcec2b"
      },
      "outputs": [
        {
          "data": {
            "image/png": "[encoded data removed]",
            "text/plain": [
              "<Figure size 432x288 with 1 Axes>"
            ]
          },
          "metadata": {
            "needs_background": "light"
          },
          "output_type": "display_data"
        }
      ],
      "source": [
        "#knn\n",
        "from sklearn.decomposition import PCA\n",
        "from sklearn.neighbors import KNeighborsClassifier\n",
        "\n",
        "df=pd.read_csv(r\"communities-crime-clean.csv\")\n",
        "df['highCrime'] = np.where(df['ViolentCrimesPerPop']>0.1, 1, 0)\n",
        "initial=pd.read_csv(r\"communities-crime-clean.csv\")\n",
        "Y = df['highCrime']\n",
        "fold=df['fold']\n",
        "state=df['state']\n",
        "community=df['communityname']\n",
        "initial = initial.drop('fold', 1)\n",
        "initial = initial.drop('state', 1)\n",
        "initial = initial.drop('communityname', 1)\n",
        "initial = initial.drop('ViolentCrimesPerPop', 1)\n",
        "\n",
        "x=[]\n",
        "y=[]\n",
        "for k in range (1,16):\n",
        "    y.append([])\n",
        "for i in range (2,15):\n",
        "    pca = PCA(n_components=i)\n",
        "    pca.fit(initial)\n",
        "    pcdf = pca.transform(initial)\n",
        "    for j in range (1,16):\n",
        "        knn = KNeighborsClassifier(j)\n",
        "        knn.fit(pcdf,Y)\n",
        "        scores = cross_val_score(knn,pcdf,Y,fold,'accuracy',10)\n",
        "        y[j-1].append(np.mean(scores))\n",
        "    x.append(i)\n",
        "\n",
        "plt.plot(x,y[0],'r-',\n",
        "         x,y[1],'g-',\n",
        "         x,y[2],'b-',\n",
        "         x,y[3],'r--',\n",
        "         x,y[4],'g--',\n",
        "         x,y[5],'b--',\n",
        "         x,y[6],'r-.',\n",
        "         x,y[7],'g-.',\n",
        "         x,y[8],'b-.',\n",
        "         x,y[9],'r:',\n",
        "         x,y[10],'g:',\n",
        "         x,y[11],'b:',\n",
        "         x,y[12],'c-',\n",
        "         x,y[13],'m-',\n",
        "         x,y[14],'y-')\n",
        "plt.show()"
      ]
    },
    {
      "cell_type": "code",
      "execution_count": null,
      "metadata": {
        "id": "9qYP5hVuFL4B",
        "outputId": "fd9f4553-2ccb-4c52-e82d-d83cf6ef7598"
      },
      "outputs": [
        {
          "data": {
            "text/plain": [
              "array([0, 1, 1, ..., 0, 0, 0])"
            ]
          },
          "execution_count": 22,
          "metadata": {},
          "output_type": "execute_result"
        }
      ],
      "source": [
        "from sklearn.metrics import f1_score\n",
        "knn = KNeighborsClassifier(n_neighbors=12)\n",
        "knn.fit(pcdf,Y)\n",
        "y_pred = knn.predict(pcdf)\n",
        "y_pred"
      ]
    },
    {
      "cell_type": "code",
      "execution_count": null,
      "metadata": {
        "id": "dDnnwUVKFL4B",
        "outputId": "ea0a394b-1a61-41ef-96da-072b640c23b6"
      },
      "outputs": [
        {
          "name": "stdout",
          "output_type": "stream",
          "text": [
            "fl score is 86.3036303630363\n",
            "Accuracy is 83.34169593577522\n",
            "Precision is 89.09710391822829\n",
            "Recall is 83.67999999999999\n"
          ]
        }
      ],
      "source": [
        "print ('fl score is', f1_score(Y,y_pred,average=\"binary\")*100)\n",
        "print ('Accuracy is', accuracy_score(Y,y_pred)*100)\n",
        "print ('Precision is', precision_score(Y,y_pred)*100)\n",
        "print ('Recall is', recall_score(Y,y_pred)*100)"
      ]
    },
    {
      "cell_type": "code",
      "execution_count": null,
      "metadata": {
        "id": "AEC3GiEBFL4B",
        "outputId": "1eff0485-ea4b-4473-946f-7d80d56c4333"
      },
      "outputs": [
        {
          "name": "stdout",
          "output_type": "stream",
          "text": [
            "[0.76       0.815      0.84       0.81909548 0.71859296 0.68844221\n",
            " 0.78894472 0.73366834 0.81407035 0.8241206 ]\n",
            "Cross validation accuracy is 78.01934673366834\n"
          ]
        }
      ],
      "source": [
        "scores = cross_val_score(knn,pcdf,Y,fold,'accuracy',10)\n",
        "print(scores)\n",
        "print ('Cross validation accuracy is', np.mean(scores)*100)"
      ]
    },
    {
      "cell_type": "code",
      "execution_count": null,
      "metadata": {
        "id": "Q4eQZ7DZFL4C",
        "outputId": "3544ec21-2cd7-46e5-b308-ae2937253187"
      },
      "outputs": [
        {
          "name": "stdout",
          "output_type": "stream",
          "text": [
            "[0.77304965 0.81884058 0.86046512 0.8503937  0.87912088 0.83870968\n",
            " 0.83739837 0.91860465 0.82835821 0.875     ]\n",
            "Cross validation precision is 84.79940832808677\n"
          ]
        }
      ],
      "source": [
        "scores = cross_val_score(knn,pcdf,Y,fold,'precision',10)\n",
        "print(scores)\n",
        "print ('Cross validation precision is', np.mean(scores)*100)"
      ]
    },
    {
      "cell_type": "code",
      "execution_count": null,
      "metadata": {
        "id": "P_T09v_QFL4C",
        "outputId": "3ccc5b91-85cf-4198-d37b-ecb68cc54336"
      },
      "outputs": [
        {
          "name": "stdout",
          "output_type": "stream",
          "text": [
            "[0.872 0.904 0.888 0.864 0.64  0.624 0.824 0.632 0.888 0.84 ]\n",
            "Cross validation recall is 79.75999999999999\n"
          ]
        }
      ],
      "source": [
        "scores = cross_val_score(knn,pcdf,Y,fold,'recall',10)\n",
        "print(scores)\n",
        "print ('Cross validation recall is', np.mean(scores)*100)"
      ]
    },
    {
      "cell_type": "code",
      "execution_count": null,
      "metadata": {
        "id": "WXfYUODLFL4C"
      },
      "outputs": [],
      "source": [
        "# Tabulating all the scores obatining using pca as well as the score of the unreduced model\n",
        "from tabulate import tabulate\n",
        "info = {'Models':['Decision tree','SVC','KNN'], 'Accuracy':[Decision_tree_accuracy,SVC_accuracy, accuracy_score(Y,y_pred)*100]}"
      ]
    },
    {
      "cell_type": "code",
      "execution_count": null,
      "metadata": {
        "id": "4NNFojmjFL4C",
        "outputId": "949fef72-e95a-4ccc-b65f-a0ca46a2ca38"
      },
      "outputs": [
        {
          "name": "stdout",
          "output_type": "stream",
          "text": [
            "╒═══════════════╤════════════╕\n",
            "│ Models        │   Accuracy │\n",
            "╞═══════════════╪════════════╡\n",
            "│ Decision tree │    83.5926 │\n",
            "├───────────────┼────────────┤\n",
            "│ SVC           │    80.9284 │\n",
            "├───────────────┼────────────┤\n",
            "│ KNN           │    83.3417 │\n",
            "╘═══════════════╧════════════╛\n"
          ]
        }
      ],
      "source": [
        "print(tabulate(info,headers='keys',tablefmt='fancy_grid'))"
      ]
    },
    {
      "cell_type": "markdown",
      "metadata": {
        "id": "FDwWxnY_FL4C"
      },
      "source": [
        "#  GAUSSIAN NAIVES BAYES"
      ]
    },
    {
      "cell_type": "code",
      "execution_count": null,
      "metadata": {
        "id": "2YBRpTioFL4D",
        "outputId": "265fc379-2c30-422d-e7f2-91d0439bd410"
      },
      "outputs": [
        {
          "name": "stdout",
          "output_type": "stream",
          "text": [
            "mislabel num is  442\n"
          ]
        }
      ],
      "source": [
        "from sklearn.naive_bayes import GaussianNB\n",
        "gnb = GaussianNB()\n",
        "y_pred = gnb.fit(initial, Y).predict(initial)\n",
        "print(\"mislabel num is \",(Y != y_pred).sum())"
      ]
    },
    {
      "cell_type": "code",
      "execution_count": null,
      "metadata": {
        "id": "PZsmVgvbFL4D",
        "outputId": "dfb713f0-0065-4daf-f2dc-002e9ccf5040"
      },
      "outputs": [
        {
          "name": "stdout",
          "output_type": "stream",
          "text": [
            "sigma is  [[6.81498760e-04 2.28437713e-02 5.73265762e-03 7.94160248e-03\n",
            "  2.70027449e-02 8.35039880e-03 2.87941670e-02 2.37637596e-02\n",
            "  3.36759141e-02 3.19108885e-02 9.11024762e-04 1.91669506e-01\n",
            "  5.42988193e-02 2.87975801e-02 4.97254590e-02 2.32947856e-02\n",
            "  3.03545912e-02 1.72356188e-02 3.03831459e-02 4.65940634e-02\n",
            "  4.70152959e-02 4.69964679e-02 4.39360975e-02 4.27060375e-02\n",
            "  5.22838409e-02 5.28783603e-02 4.55105121e-02 3.48961975e-04\n",
            "  3.18947110e-02 2.26268880e-02 2.48441075e-02 5.58906929e-02\n",
            "  2.05663717e-02 2.64897578e-02 3.77681157e-02 3.29268513e-02\n",
            "  3.61302093e-02 4.15674198e-02 2.34322839e-02 2.86713094e-02\n",
            "  2.19983645e-02 2.37871705e-02 1.63629651e-02 1.73984529e-02\n",
            "  1.53158290e-02 1.91697130e-02 1.59638353e-02 3.14366408e-02\n",
            "  3.03493322e-02 4.23265128e-05 6.58895806e-03 2.42284125e-04\n",
            "  5.29353458e-02 4.81758386e-02 4.30947621e-02 3.75609602e-02\n",
            "  2.78438137e-02 2.43797777e-02 2.26668852e-02 1.95472031e-02\n",
            "  1.54807068e-02 9.00828352e-03 2.00861516e-02 2.07895877e-02\n",
            "  2.35278218e-02 1.86816893e-02 2.63747934e-02 3.16328060e-02\n",
            "  7.22852013e-03 2.66587011e-02 4.80220055e-02 1.43457213e-03\n",
            "  2.47178347e-02 3.18258515e-02 1.76634884e-02 3.56350029e-02\n",
            "  5.41742329e-02 2.57941322e-02 2.50503849e-02 5.40178323e-02\n",
            "  5.87634498e-02 6.18748182e-02 4.93820710e-02 4.96125023e-02\n",
            "  7.01420224e-02 5.50793547e-02 2.66222471e-02 3.11727012e-02\n",
            "  3.70617078e-02 2.80108304e-04 3.58854179e-05 2.17611457e-02\n",
            "  3.62071318e-02 3.92957652e-02 4.55522120e-02 4.02749410e-02\n",
            "  3.79852243e-03 2.22279311e-02 4.44907113e-02 1.12063601e-02]\n",
            " [2.39625526e-02 2.88682040e-02 8.20974417e-02 6.59039073e-02\n",
            "  5.30651896e-02 7.28612595e-02 2.12202273e-02 1.79164178e-02\n",
            "  2.37804969e-02 3.19722785e-02 2.44310646e-02 2.00646411e-01\n",
            "  2.61346879e-02 3.24969096e-02 3.61134492e-02 2.19450179e-02\n",
            "  2.95816911e-02 5.21510786e-02 2.65938307e-02 2.43217331e-02\n",
            "  2.37776760e-02 2.45739310e-02 1.80081372e-02 1.77795870e-02\n",
            "  2.74193298e-02 2.60590546e-02 2.21982251e-02 2.41699346e-02\n",
            "  4.91211318e-02 5.05776312e-02 4.00961612e-02 2.90704965e-02\n",
            "  4.18667272e-02 2.91235285e-02 4.26442706e-02 2.86195548e-02\n",
            "  3.75515771e-02 2.43793321e-02 2.53084859e-02 3.02399173e-02\n",
            "  2.05567112e-02 2.35325816e-02 2.82644818e-02 3.38784438e-02\n",
            "  3.50201359e-02 4.45342659e-02 3.39851025e-02 2.66027571e-02\n",
            "  3.06796252e-02 1.77887667e-02 6.01230561e-02 1.15513459e-02\n",
            "  4.31937228e-02 3.94262787e-02 3.55020306e-02 3.34002819e-02\n",
            "  6.84404226e-02 7.02551746e-02 7.14041407e-02 7.15011395e-02\n",
            "  6.82236306e-02 6.57618949e-02 4.48806146e-02 4.30114755e-02\n",
            "  3.15927585e-02 2.75239339e-02 3.80762795e-02 2.89291817e-02\n",
            "  5.49257621e-02 2.19968386e-02 6.24806402e-02 3.27911401e-02\n",
            "  4.02189097e-02 2.59034872e-02 5.86609541e-02 3.55345999e-02\n",
            "  5.38971387e-02 6.20787259e-02 4.88689087e-02 4.56926955e-02\n",
            "  4.82468342e-02 4.93675413e-02 4.42374121e-02 3.71284216e-02\n",
            "  5.23192466e-02 3.62266178e-02 2.63657987e-02 3.71357214e-02\n",
            "  3.69801848e-02 1.60247193e-02 1.55904658e-02 6.94771256e-02\n",
            "  4.40805826e-02 2.61415521e-02 3.69873873e-02 3.84931740e-02\n",
            "  1.66533589e-02 4.95493798e-02 5.71360422e-02 7.99684543e-02]]\n"
          ]
        }
      ],
      "source": [
        "print ('sigma is ',gnb.sigma_)"
      ]
    },
    {
      "cell_type": "code",
      "execution_count": null,
      "metadata": {
        "id": "RyyRM284FL4D",
        "outputId": "24296d6d-8e0f-4369-8ef4-38799b20c896"
      },
      "outputs": [
        {
          "data": {
            "text/plain": [
              "array([[6.81498760e-04, 2.28437713e-02, 5.73265762e-03, 7.94160248e-03,\n",
              "        2.70027449e-02, 8.35039880e-03, 2.87941670e-02, 2.37637596e-02,\n",
              "        3.36759141e-02, 3.19108885e-02, 9.11024762e-04, 1.91669506e-01,\n",
              "        5.42988193e-02, 2.87975801e-02, 4.97254590e-02, 2.32947856e-02,\n",
              "        3.03545912e-02, 1.72356188e-02, 3.03831459e-02, 4.65940634e-02,\n",
              "        4.70152959e-02, 4.69964679e-02, 4.39360975e-02, 4.27060375e-02,\n",
              "        5.22838409e-02, 5.28783603e-02, 4.55105121e-02, 3.48961975e-04,\n",
              "        3.18947110e-02, 2.26268880e-02, 2.48441075e-02, 5.58906929e-02,\n",
              "        2.05663717e-02, 2.64897578e-02, 3.77681157e-02, 3.29268513e-02,\n",
              "        3.61302093e-02, 4.15674198e-02, 2.34322839e-02, 2.86713094e-02,\n",
              "        2.19983645e-02, 2.37871705e-02, 1.63629651e-02, 1.73984529e-02,\n",
              "        1.53158290e-02, 1.91697130e-02, 1.59638353e-02, 3.14366408e-02,\n",
              "        3.03493322e-02, 4.23265128e-05, 6.58895806e-03, 2.42284125e-04,\n",
              "        5.29353458e-02, 4.81758386e-02, 4.30947621e-02, 3.75609602e-02,\n",
              "        2.78438137e-02, 2.43797777e-02, 2.26668852e-02, 1.95472031e-02,\n",
              "        1.54807068e-02, 9.00828352e-03, 2.00861516e-02, 2.07895877e-02,\n",
              "        2.35278218e-02, 1.86816893e-02, 2.63747934e-02, 3.16328060e-02,\n",
              "        7.22852013e-03, 2.66587011e-02, 4.80220055e-02, 1.43457213e-03,\n",
              "        2.47178347e-02, 3.18258515e-02, 1.76634884e-02, 3.56350029e-02,\n",
              "        5.41742329e-02, 2.57941322e-02, 2.50503849e-02, 5.40178323e-02,\n",
              "        5.87634498e-02, 6.18748182e-02, 4.93820710e-02, 4.96125023e-02,\n",
              "        7.01420224e-02, 5.50793547e-02, 2.66222471e-02, 3.11727012e-02,\n",
              "        3.70617078e-02, 2.80108304e-04, 3.58854179e-05, 2.17611457e-02,\n",
              "        3.62071318e-02, 3.92957652e-02, 4.55522120e-02, 4.02749410e-02,\n",
              "        3.79852243e-03, 2.22279311e-02, 4.44907113e-02, 1.12063601e-02],\n",
              "       [2.39625526e-02, 2.88682040e-02, 8.20974417e-02, 6.59039073e-02,\n",
              "        5.30651896e-02, 7.28612595e-02, 2.12202273e-02, 1.79164178e-02,\n",
              "        2.37804969e-02, 3.19722785e-02, 2.44310646e-02, 2.00646411e-01,\n",
              "        2.61346879e-02, 3.24969096e-02, 3.61134492e-02, 2.19450179e-02,\n",
              "        2.95816911e-02, 5.21510786e-02, 2.65938307e-02, 2.43217331e-02,\n",
              "        2.37776760e-02, 2.45739310e-02, 1.80081372e-02, 1.77795870e-02,\n",
              "        2.74193298e-02, 2.60590546e-02, 2.21982251e-02, 2.41699346e-02,\n",
              "        4.91211318e-02, 5.05776312e-02, 4.00961612e-02, 2.90704965e-02,\n",
              "        4.18667272e-02, 2.91235285e-02, 4.26442706e-02, 2.86195548e-02,\n",
              "        3.75515771e-02, 2.43793321e-02, 2.53084859e-02, 3.02399173e-02,\n",
              "        2.05567112e-02, 2.35325816e-02, 2.82644818e-02, 3.38784438e-02,\n",
              "        3.50201359e-02, 4.45342659e-02, 3.39851025e-02, 2.66027571e-02,\n",
              "        3.06796252e-02, 1.77887667e-02, 6.01230561e-02, 1.15513459e-02,\n",
              "        4.31937228e-02, 3.94262787e-02, 3.55020306e-02, 3.34002819e-02,\n",
              "        6.84404226e-02, 7.02551746e-02, 7.14041407e-02, 7.15011395e-02,\n",
              "        6.82236306e-02, 6.57618949e-02, 4.48806146e-02, 4.30114755e-02,\n",
              "        3.15927585e-02, 2.75239339e-02, 3.80762795e-02, 2.89291817e-02,\n",
              "        5.49257621e-02, 2.19968386e-02, 6.24806402e-02, 3.27911401e-02,\n",
              "        4.02189097e-02, 2.59034872e-02, 5.86609541e-02, 3.55345999e-02,\n",
              "        5.38971387e-02, 6.20787259e-02, 4.88689087e-02, 4.56926955e-02,\n",
              "        4.82468342e-02, 4.93675413e-02, 4.42374121e-02, 3.71284216e-02,\n",
              "        5.23192466e-02, 3.62266178e-02, 2.63657987e-02, 3.71357214e-02,\n",
              "        3.69801848e-02, 1.60247193e-02, 1.55904658e-02, 6.94771256e-02,\n",
              "        4.40805826e-02, 2.61415521e-02, 3.69873873e-02, 3.84931740e-02,\n",
              "        1.66533589e-02, 4.95493798e-02, 5.71360422e-02, 7.99684543e-02]])"
            ]
          },
          "execution_count": 31,
          "metadata": {},
          "output_type": "execute_result"
        }
      ],
      "source": [
        "variance=gnb.sigma_\n",
        "variance"
      ]
    },
    {
      "cell_type": "code",
      "execution_count": null,
      "metadata": {
        "id": "6AEhV1fhFL4D"
      },
      "outputs": [],
      "source": [
        "standard_deviation =np.sqrt( variance)"
      ]
    },
    {
      "cell_type": "code",
      "execution_count": null,
      "metadata": {
        "id": "67b2gFH_FL4D",
        "outputId": "5bfd2a45-2bfa-4674-c271-f934a1e8e764"
      },
      "outputs": [
        {
          "name": "stdout",
          "output_type": "stream",
          "text": [
            "standard deviation is [[0.02610553 0.15114156 0.07571432 0.08911567 0.16432512 0.09138052\n",
            "  0.16968844 0.15415499 0.18350998 0.17863619 0.03018319 0.43780076\n",
            "  0.23302107 0.1696985  0.22299206 0.15262629 0.17422569 0.1312845\n",
            "  0.17430762 0.21585658 0.21683011 0.21678669 0.20960939 0.20665439\n",
            "  0.2286566  0.22995295 0.21333193 0.01868052 0.1785909  0.15042237\n",
            "  0.15762014 0.23641213 0.1434098  0.16275674 0.19434021 0.18145757\n",
            "  0.19007948 0.2038809  0.15307607 0.16932604 0.14831846 0.1542309\n",
            "  0.12791781 0.1319032  0.12375714 0.13845473 0.12634807 0.17730381\n",
            "  0.1742106  0.00650588 0.0811724  0.01556548 0.23007683 0.21948995\n",
            "  0.20759278 0.1938065  0.16686466 0.15614025 0.15055526 0.13981131\n",
            "  0.12442149 0.09491198 0.14172562 0.14418595 0.15338782 0.13668098\n",
            "  0.16240318 0.17785614 0.0850207  0.16327493 0.21913924 0.03787575\n",
            "  0.15721907 0.17839801 0.13290406 0.18877236 0.23275359 0.16060552\n",
            "  0.15827313 0.23241737 0.24241174 0.24874649 0.22222077 0.22273864\n",
            "  0.26484339 0.23468991 0.16316325 0.17655793 0.19251418 0.01673644\n",
            "  0.00599044 0.14751659 0.19028172 0.19823159 0.21342964 0.20068618\n",
            "  0.06163215 0.14909035 0.21092821 0.1058601 ]\n",
            " [0.15479843 0.16990646 0.28652651 0.25671756 0.23035883 0.26992825\n",
            "  0.14567164 0.13385222 0.15420926 0.17880794 0.1563044  0.44793572\n",
            "  0.16166227 0.18026899 0.19003539 0.14813851 0.17199329 0.22836611\n",
            "  0.16307615 0.15595427 0.15420012 0.15676074 0.1341944  0.13334012\n",
            "  0.16558783 0.16142817 0.14899069 0.15546683 0.22163288 0.22489471\n",
            "  0.20024026 0.17050072 0.2046136  0.17065617 0.20650489 0.16917315\n",
            "  0.19378229 0.15613882 0.15908641 0.17389628 0.14337612 0.15340333\n",
            "  0.16812044 0.18406098 0.18713668 0.21103143 0.18435049 0.16310352\n",
            "  0.175156   0.13337454 0.24520003 0.10747719 0.207831   0.19856052\n",
            "  0.18841983 0.18275744 0.26161121 0.26505693 0.26721553 0.26739697\n",
            "  0.26119654 0.25644082 0.21185045 0.20739208 0.17774352 0.16590339\n",
            "  0.19513144 0.17008581 0.23436246 0.14831331 0.24996128 0.18108324\n",
            "  0.20054653 0.1609456  0.24220024 0.18850623 0.23215757 0.24915603\n",
            "  0.22106313 0.2137585  0.21965162 0.22218808 0.21032692 0.19268737\n",
            "  0.22873401 0.19033291 0.16237549 0.19270631 0.19230233 0.12658878\n",
            "  0.12486179 0.26358514 0.20995376 0.16168349 0.19232105 0.19619677\n",
            "  0.12904789 0.2225969  0.23903147 0.28278694]]\n"
          ]
        }
      ],
      "source": [
        "print('standard deviation is',standard_deviation);"
      ]
    },
    {
      "cell_type": "code",
      "execution_count": null,
      "metadata": {
        "id": "-4qG99o-FL4E"
      },
      "outputs": [],
      "source": [
        "sum_standard=standard_deviation[0]+standard_deviation[1]"
      ]
    },
    {
      "cell_type": "code",
      "execution_count": null,
      "metadata": {
        "id": "bQ5y4q1QFL4E",
        "outputId": "01ab7631-b6e6-4a6f-9717-ad32487e26e0"
      },
      "outputs": [
        {
          "name": "stdout",
          "output_type": "stream",
          "text": [
            "sum of standard deviation is [0.18090396 0.32104802 0.36224083 0.34583323 0.39468395 0.36130877\n",
            " 0.31536008 0.28800721 0.33771925 0.35744413 0.18648758 0.88573648\n",
            " 0.39468334 0.34996749 0.41302745 0.3007648  0.34621898 0.3596506\n",
            " 0.33738377 0.37181085 0.37103023 0.37354743 0.34380379 0.33999451\n",
            " 0.39424443 0.39138112 0.36232262 0.17414735 0.40022378 0.37531708\n",
            " 0.3578604  0.40691285 0.34802341 0.33341291 0.4008451  0.35063072\n",
            " 0.38386177 0.36001972 0.31216248 0.34322233 0.29169457 0.30763423\n",
            " 0.29603824 0.31596417 0.31089381 0.34948617 0.31069856 0.34040733\n",
            " 0.3493666  0.13988042 0.32637243 0.12304267 0.43790782 0.41805047\n",
            " 0.3960126  0.37656394 0.42847586 0.42119718 0.41777079 0.40720828\n",
            " 0.38561802 0.3513528  0.35357607 0.35157803 0.33113133 0.30258436\n",
            " 0.35753462 0.34794195 0.31938316 0.31158824 0.46910052 0.21895899\n",
            " 0.35776559 0.33934362 0.37510429 0.37727859 0.46491116 0.40976154\n",
            " 0.37933627 0.44617586 0.46206336 0.47093457 0.43254769 0.41542601\n",
            " 0.4935774  0.42502282 0.32553874 0.36926423 0.3848165  0.14332522\n",
            " 0.13085223 0.41110173 0.40023548 0.35991509 0.40575069 0.39688295\n",
            " 0.19068005 0.37168725 0.44995968 0.38864704]\n"
          ]
        }
      ],
      "source": [
        "print('sum of standard deviation is',sum_standard);"
      ]
    },
    {
      "cell_type": "code",
      "execution_count": null,
      "metadata": {
        "id": "_23kJjnwFL4E",
        "outputId": "b09bbf7a-e330-4a14-867d-d46c3e97626a"
      },
      "outputs": [
        {
          "name": "stdout",
          "output_type": "stream",
          "text": [
            "theta is  [[2.04441454e-02 4.80713324e-01 4.76985195e-02 9.13458950e-01\n",
            "  1.32422611e-01 5.02691790e-02 4.15827725e-01 4.64629879e-01\n",
            "  3.15706595e-01 4.07429341e-01 2.77658143e-02 6.73660834e-01\n",
            "  4.71022880e-01 6.20363392e-01 3.19663526e-01 6.20484522e-01\n",
            "  4.50228802e-01 1.87173620e-01 4.90174966e-01 4.81561238e-01\n",
            "  4.33055182e-01 4.25518170e-01 3.45585464e-01 2.14495289e-01\n",
            "  3.72489906e-01 3.10955585e-01 4.52288022e-01 1.28936743e-02\n",
            "  1.77321669e-01 2.20915209e-01 2.77981157e-01 4.50538358e-01\n",
            "  2.56137281e-01 5.60646030e-01 4.11211306e-01 4.71130552e-01\n",
            "  3.25760431e-01 5.22462988e-01 3.40390310e-01 3.90982503e-01\n",
            "  3.60538358e-01 3.64024226e-01 4.76756393e-01 7.58869448e-01\n",
            "  7.78761777e-01 8.10067295e-01 7.08371467e-01 4.95450875e-01\n",
            "  5.42732167e-01 3.56662180e-03 1.04508748e-01 8.90982503e-03\n",
            "  2.75908479e-01 3.05989233e-01 3.37927322e-01 3.56864065e-01\n",
            "  1.19555855e-01 1.15020188e-01 1.16312248e-01 1.12018843e-01\n",
            "  8.55531629e-01 7.21534320e-02 1.96541050e-01 1.99327052e-01\n",
            "  4.78519515e-01 5.28896366e-01 3.44360700e-01 6.85020188e-01\n",
            "  7.82368775e-02 3.94535666e-01 4.30686406e-01 2.59623149e-02\n",
            "  7.92853297e-01 6.50726783e-01 1.22018843e-01 4.46998654e-01\n",
            "  5.01776581e-01 1.32126514e-01 1.77779273e-01 3.15841184e-01\n",
            "  3.12530283e-01 3.15720054e-01 4.02893674e-01 4.30121131e-01\n",
            "  4.89676985e-01 4.45746972e-01 4.28371467e-01 4.33418573e-01\n",
            "  4.09138627e-01 4.41453567e-03 7.67160162e-04 1.61965007e-01\n",
            "  6.39959623e-01 5.90444145e-01 6.29905787e-01 6.66096904e-01\n",
            "  5.10363392e-02 1.76729475e-01 1.53741588e-01 1.82503365e-02]\n",
            " [7.97040000e-02 4.53168000e-01 2.57408000e-01 6.59192000e-01\n",
            "  1.66432000e-01 1.99856000e-01 4.29192000e-01 5.11320000e-01\n",
            "  3.48536000e-01 4.32392000e-01 8.57040000e-02 7.10264000e-01\n",
            "  2.96016000e-01 5.21432000e-01 2.74824000e-01 4.21656000e-01\n",
            "  4.83416000e-01 3.95040000e-01 4.72744000e-01 3.12944000e-01\n",
            "  3.01168000e-01 3.33928000e-01 2.58824000e-01 1.97072000e-01\n",
            "  2.92520000e-01 2.69160000e-01 3.46848000e-01 8.08400000e-02\n",
            "  3.77304000e-01 3.72032000e-01 4.45824000e-01 3.08912000e-01\n",
            "  4.26968000e-01 4.65912000e-01 3.87640000e-01 4.22376000e-01\n",
            "  4.30152000e-01 3.93064000e-01 5.32952000e-01 4.60288000e-01\n",
            "  5.62968000e-01 5.71568000e-01 4.94280000e-01 5.23304000e-01\n",
            "  5.27016000e-01 5.77656000e-01 5.08608000e-01 5.04944000e-01\n",
            "  5.17176000e-01 5.57440000e-02 3.35992000e-01 4.26560000e-02\n",
            "  3.46624000e-01 3.93256000e-01 4.35640000e-01 4.70344000e-01\n",
            "  2.18240000e-01 2.22160000e-01 2.25616000e-01 2.25144000e-01\n",
            "  7.44360000e-01 1.97312000e-01 3.09840000e-01 2.83144000e-01\n",
            "  4.52392000e-01 4.74048000e-01 4.39552000e-01 4.89864000e-01\n",
            "  2.50488000e-01 5.55040000e-01 2.45600000e-01 1.07064000e-01\n",
            "  6.76136000e-01 4.88032000e-01 2.53488000e-01 4.25016000e-01\n",
            "  4.89752000e-01 3.42952000e-01 2.81616000e-01 2.34448000e-01\n",
            "  2.34504000e-01 2.41288000e-01 3.13064000e-01 3.38432000e-01\n",
            "  3.83560000e-01 3.47680000e-01 5.26744000e-01 4.59472000e-01\n",
            "  4.00368000e-01 4.43360000e-02 3.58800000e-02 2.47568000e-01\n",
            "  5.90240000e-01 5.01992000e-01 6.24192000e-01 6.42776000e-01\n",
            "  7.36880000e-02 2.66304000e-01 1.66496000e-01 1.39184000e-01]]\n"
          ]
        }
      ],
      "source": [
        "print ('theta is ',gnb.theta_)"
      ]
    },
    {
      "cell_type": "code",
      "execution_count": null,
      "metadata": {
        "id": "rYkskcIKFL4E",
        "outputId": "1393857d-077a-41cb-c6cd-21d35c7e4ab5"
      },
      "outputs": [
        {
          "name": "stdout",
          "output_type": "stream",
          "text": [
            "[[2.04441454e-02 4.80713324e-01 4.76985195e-02 9.13458950e-01\n",
            "  1.32422611e-01 5.02691790e-02 4.15827725e-01 4.64629879e-01\n",
            "  3.15706595e-01 4.07429341e-01 2.77658143e-02 6.73660834e-01\n",
            "  4.71022880e-01 6.20363392e-01 3.19663526e-01 6.20484522e-01\n",
            "  4.50228802e-01 1.87173620e-01 4.90174966e-01 4.81561238e-01\n",
            "  4.33055182e-01 4.25518170e-01 3.45585464e-01 2.14495289e-01\n",
            "  3.72489906e-01 3.10955585e-01 4.52288022e-01 1.28936743e-02\n",
            "  1.77321669e-01 2.20915209e-01 2.77981157e-01 4.50538358e-01\n",
            "  2.56137281e-01 5.60646030e-01 4.11211306e-01 4.71130552e-01\n",
            "  3.25760431e-01 5.22462988e-01 3.40390310e-01 3.90982503e-01\n",
            "  3.60538358e-01 3.64024226e-01 4.76756393e-01 7.58869448e-01\n",
            "  7.78761777e-01 8.10067295e-01 7.08371467e-01 4.95450875e-01\n",
            "  5.42732167e-01 3.56662180e-03 1.04508748e-01 8.90982503e-03\n",
            "  2.75908479e-01 3.05989233e-01 3.37927322e-01 3.56864065e-01\n",
            "  1.19555855e-01 1.15020188e-01 1.16312248e-01 1.12018843e-01\n",
            "  8.55531629e-01 7.21534320e-02 1.96541050e-01 1.99327052e-01\n",
            "  4.78519515e-01 5.28896366e-01 3.44360700e-01 6.85020188e-01\n",
            "  7.82368775e-02 3.94535666e-01 4.30686406e-01 2.59623149e-02\n",
            "  7.92853297e-01 6.50726783e-01 1.22018843e-01 4.46998654e-01\n",
            "  5.01776581e-01 1.32126514e-01 1.77779273e-01 3.15841184e-01\n",
            "  3.12530283e-01 3.15720054e-01 4.02893674e-01 4.30121131e-01\n",
            "  4.89676985e-01 4.45746972e-01 4.28371467e-01 4.33418573e-01\n",
            "  4.09138627e-01 4.41453567e-03 7.67160162e-04 1.61965007e-01\n",
            "  6.39959623e-01 5.90444145e-01 6.29905787e-01 6.66096904e-01\n",
            "  5.10363392e-02 1.76729475e-01 1.53741588e-01 1.82503365e-02]\n",
            " [7.97040000e-02 4.53168000e-01 2.57408000e-01 6.59192000e-01\n",
            "  1.66432000e-01 1.99856000e-01 4.29192000e-01 5.11320000e-01\n",
            "  3.48536000e-01 4.32392000e-01 8.57040000e-02 7.10264000e-01\n",
            "  2.96016000e-01 5.21432000e-01 2.74824000e-01 4.21656000e-01\n",
            "  4.83416000e-01 3.95040000e-01 4.72744000e-01 3.12944000e-01\n",
            "  3.01168000e-01 3.33928000e-01 2.58824000e-01 1.97072000e-01\n",
            "  2.92520000e-01 2.69160000e-01 3.46848000e-01 8.08400000e-02\n",
            "  3.77304000e-01 3.72032000e-01 4.45824000e-01 3.08912000e-01\n",
            "  4.26968000e-01 4.65912000e-01 3.87640000e-01 4.22376000e-01\n",
            "  4.30152000e-01 3.93064000e-01 5.32952000e-01 4.60288000e-01\n",
            "  5.62968000e-01 5.71568000e-01 4.94280000e-01 5.23304000e-01\n",
            "  5.27016000e-01 5.77656000e-01 5.08608000e-01 5.04944000e-01\n",
            "  5.17176000e-01 5.57440000e-02 3.35992000e-01 4.26560000e-02\n",
            "  3.46624000e-01 3.93256000e-01 4.35640000e-01 4.70344000e-01\n",
            "  2.18240000e-01 2.22160000e-01 2.25616000e-01 2.25144000e-01\n",
            "  7.44360000e-01 1.97312000e-01 3.09840000e-01 2.83144000e-01\n",
            "  4.52392000e-01 4.74048000e-01 4.39552000e-01 4.89864000e-01\n",
            "  2.50488000e-01 5.55040000e-01 2.45600000e-01 1.07064000e-01\n",
            "  6.76136000e-01 4.88032000e-01 2.53488000e-01 4.25016000e-01\n",
            "  4.89752000e-01 3.42952000e-01 2.81616000e-01 2.34448000e-01\n",
            "  2.34504000e-01 2.41288000e-01 3.13064000e-01 3.38432000e-01\n",
            "  3.83560000e-01 3.47680000e-01 5.26744000e-01 4.59472000e-01\n",
            "  4.00368000e-01 4.43360000e-02 3.58800000e-02 2.47568000e-01\n",
            "  5.90240000e-01 5.01992000e-01 6.24192000e-01 6.42776000e-01\n",
            "  7.36880000e-02 2.66304000e-01 1.66496000e-01 1.39184000e-01]]\n"
          ]
        }
      ],
      "source": [
        "mean=gnb.theta_\n",
        "print(mean)\n",
        "difference=mean[0]-mean[1]"
      ]
    },
    {
      "cell_type": "code",
      "execution_count": null,
      "metadata": {
        "id": "t7-s2-T3FL4F",
        "outputId": "443f7ef7-2ca7-4b22-9799-2a1c8891b98a"
      },
      "outputs": [
        {
          "name": "stdout",
          "output_type": "stream",
          "text": [
            "difference is  [0.05925985 0.02754532 0.20970948 0.25426695 0.03400939 0.14958682\n",
            " 0.01336427 0.04669012 0.03282941 0.02496266 0.05793819 0.03660317\n",
            " 0.17500688 0.09893139 0.04483953 0.19882852 0.0331872  0.20786638\n",
            " 0.01743097 0.16861724 0.13188718 0.09159017 0.08676146 0.01742329\n",
            " 0.07996991 0.04179559 0.10544002 0.06794633 0.19998233 0.15111679\n",
            " 0.16784284 0.14162636 0.17083072 0.09473403 0.02357131 0.04875455\n",
            " 0.10439157 0.12939899 0.19256169 0.0693055  0.20242964 0.20754377\n",
            " 0.01752361 0.23556545 0.25174578 0.23241129 0.19976347 0.00949313\n",
            " 0.02555617 0.05217738 0.23148325 0.03374617 0.07071552 0.08726677\n",
            " 0.09771268 0.11347994 0.09868415 0.10713981 0.10930375 0.11312516\n",
            " 0.11117163 0.12515857 0.11329895 0.08381695 0.02612752 0.05484837\n",
            " 0.0951913  0.19515619 0.17225112 0.16050433 0.18508641 0.08110169\n",
            " 0.1167173  0.16269478 0.13146916 0.02198265 0.01202458 0.21082549\n",
            " 0.10383673 0.08139318 0.07802628 0.07443205 0.08982967 0.09168913\n",
            " 0.10611699 0.09806697 0.09837253 0.02605343 0.00877063 0.03992146\n",
            " 0.03511284 0.08560299 0.04971962 0.08845215 0.00571379 0.0233209\n",
            " 0.02265166 0.08957452 0.01275441 0.12093366]\n"
          ]
        }
      ],
      "source": [
        "print('difference is ',abs(difference))"
      ]
    },
    {
      "cell_type": "code",
      "execution_count": null,
      "metadata": {
        "id": "OmPKzD9PFL4F",
        "outputId": "80a10135-d3df-4ccd-b8cf-04ee8f76b012"
      },
      "outputs": [
        {
          "name": "stdout",
          "output_type": "stream",
          "text": [
            "normalized_feature is  [0.32757633 0.08579815 0.57892282 0.73522995 0.08616867 0.41401382\n",
            " 0.04237783 0.16211442 0.09720916 0.06983654 0.3106812  0.04132512\n",
            " 0.44341087 0.28268738 0.10856307 0.66107643 0.09585609 0.57796756\n",
            " 0.0516651  0.45350274 0.3554621  0.2451902  0.2523575  0.0512458\n",
            " 0.20284346 0.10678999 0.29101143 0.39016571 0.49967628 0.40263766\n",
            " 0.46901765 0.34805084 0.49085985 0.28413425 0.05880403 0.13904814\n",
            " 0.27195094 0.35942195 0.61686366 0.20192596 0.69397809 0.67464461\n",
            " 0.05919373 0.74554481 0.80974842 0.66500857 0.64294945 0.02788755\n",
            " 0.07315    0.37301417 0.70926105 0.27426401 0.16148495 0.20874697\n",
            " 0.24674133 0.30135635 0.23031436 0.25436973 0.2616357  0.27780662\n",
            " 0.28829469 0.35621907 0.32043727 0.23840212 0.07890378 0.18126636\n",
            " 0.26624359 0.56088721 0.53932437 0.51511679 0.39455597 0.3703967\n",
            " 0.32623958 0.47943964 0.35048694 0.05826637 0.02586426 0.51450774\n",
            " 0.27373266 0.182424   0.1688649  0.15805179 0.20767577 0.2207111\n",
            " 0.21499563 0.23073342 0.3021838  0.07055497 0.02279171 0.27853762\n",
            " 0.26833964 0.20822825 0.12422593 0.24575837 0.01408201 0.05876016\n",
            " 0.11879408 0.24099435 0.02834568 0.31116579]\n"
          ]
        }
      ],
      "source": [
        "normalized_feature=abs(difference)/sum_standard\n",
        "print('normalized_feature is ',normalized_feature)"
      ]
    },
    {
      "cell_type": "code",
      "execution_count": null,
      "metadata": {
        "id": "CQDiWrdIFL4F",
        "outputId": "b6082978-45c6-4bde-9287-8efe008ec9af"
      },
      "outputs": [
        {
          "name": "stdout",
          "output_type": "stream",
          "text": [
            "ind is  [38 44 45 41 15 46 50  3 43 40]\n"
          ]
        }
      ],
      "source": [
        "ind = np.argpartition(normalized_feature, -10)[-10:]\n",
        "\n",
        "print('ind is ',ind)"
      ]
    },
    {
      "cell_type": "code",
      "execution_count": null,
      "metadata": {
        "id": "Fh-GBxBUFL4F",
        "outputId": "71de2294-8884-4c08-f87d-64590fc425b0"
      },
      "outputs": [
        {
          "name": "stdout",
          "output_type": "stream",
          "text": [
            "10_max_normalized_feature is  [0.61686366 0.80974842 0.66500857 0.67464461 0.66107643 0.64294945\n",
            " 0.70926105 0.73522995 0.74554481 0.69397809]\n",
            "38\n",
            "feature_name[index] is  MalePctDivorce\n",
            "44\n",
            "feature_name[index] is  PctKids2Par\n",
            "45\n",
            "feature_name[index] is  PctYoungKids2Par\n",
            "41\n",
            "feature_name[index] is  TotalPctDiv\n",
            "15\n",
            "feature_name[index] is  pctWInvInc\n",
            "46\n",
            "feature_name[index] is  PctTeen2Par\n",
            "50\n",
            "feature_name[index] is  PctIlleg\n",
            "3\n",
            "feature_name[index] is  racePctWhite\n",
            "43\n",
            "feature_name[index] is  PctFam2Par\n",
            "40\n",
            "feature_name[index] is  FemalePctDiv\n"
          ]
        }
      ],
      "source": [
        "print('10_max_normalized_feature is ',normalized_feature[ind])\n",
        "\n",
        "for x in range(0, len(ind)):\n",
        "    index=ind[x]\n",
        "    print(index)\n",
        "    print('feature_name[index] is ',feature_name[index])"
      ]
    },
    {
      "cell_type": "code",
      "execution_count": null,
      "metadata": {
        "id": "KXOeTJKyFL4G"
      },
      "outputs": [],
      "source": [
        "from sklearn.model_selection import cross_val_score\n",
        "fold=df['fold']\n",
        "scores = cross_val_score(gnb, initial, Y,fold,'accuracy',10)"
      ]
    },
    {
      "cell_type": "code",
      "execution_count": null,
      "metadata": {
        "id": "Wt52W0hlFL4G"
      },
      "outputs": [],
      "source": [
        "gaussian_accuracy= np.array(scores).mean()*100"
      ]
    },
    {
      "cell_type": "code",
      "execution_count": null,
      "metadata": {
        "id": "lCJBpqt5FL4G",
        "outputId": "21e5e932-4a66-47f0-c989-6e2ac598d815"
      },
      "outputs": [
        {
          "name": "stdout",
          "output_type": "stream",
          "text": [
            "cross_val_accuracy is  [0.775      0.8        0.825      0.79899497 0.70351759 0.65326633\n",
            " 0.81407035 0.73366834 0.71356784 0.79899497]\n"
          ]
        }
      ],
      "source": [
        "print('cross_val_accuracy is ',scores)"
      ]
    },
    {
      "cell_type": "code",
      "execution_count": null,
      "metadata": {
        "id": "cLULbJV5FL4G",
        "outputId": "0b170fe4-093e-46dd-b376-bbb3268a4bae"
      },
      "outputs": [
        {
          "name": "stdout",
          "output_type": "stream",
          "text": [
            "cross_val_accuracy_avg is  0.761608040201005\n"
          ]
        }
      ],
      "source": [
        "print('cross_val_accuracy_avg is ',np.array(scores).mean()) "
      ]
    },
    {
      "cell_type": "code",
      "execution_count": null,
      "metadata": {
        "id": "LSF-5COUFL4G",
        "outputId": "b447d60b-04db-4022-dca3-2a700b170d99"
      },
      "outputs": [
        {
          "name": "stdout",
          "output_type": "stream",
          "text": [
            "cross_val_precision is  [0.86363636 0.92929293 0.95       0.92079208 0.94594595 0.86842105\n",
            " 0.92307692 1.         0.77868852 0.93814433]\n"
          ]
        }
      ],
      "source": [
        "scores = cross_val_score(gnb, initial, Y,fold,'precision',10)\n",
        "print('cross_val_precision is ',scores) "
      ]
    },
    {
      "cell_type": "code",
      "execution_count": null,
      "metadata": {
        "id": "qBE3PG1qFL4H",
        "outputId": "c187132c-aa8c-4270-c9a7-35bba2663780"
      },
      "outputs": [
        {
          "name": "stdout",
          "output_type": "stream",
          "text": [
            "cross_val_precision_avg is  0.9117998148278733\n"
          ]
        }
      ],
      "source": [
        "print('cross_val_precision_avg is ',np.array(scores).mean()) "
      ]
    },
    {
      "cell_type": "code",
      "execution_count": null,
      "metadata": {
        "id": "us4VPvNsFL4H",
        "outputId": "870cea96-7f57-4980-d6a0-c78a3eedcf2f"
      },
      "outputs": [
        {
          "name": "stdout",
          "output_type": "stream",
          "text": [
            "cross_val_recall is  [0.76  0.736 0.76  0.744 0.56  0.528 0.768 0.576 0.76  0.728]\n"
          ]
        }
      ],
      "source": [
        "scores = cross_val_score(gnb, initial, Y,fold,'recall',10)\n",
        "print('cross_val_recall is ',scores) "
      ]
    },
    {
      "cell_type": "code",
      "execution_count": null,
      "metadata": {
        "id": "FuojROJYFL4H",
        "outputId": "c37a10f2-942f-4d52-f291-07c057f57c7b"
      },
      "outputs": [
        {
          "name": "stdout",
          "output_type": "stream",
          "text": [
            "cross_val_recall_avg is  0.692\n"
          ]
        }
      ],
      "source": [
        "print('cross_val_recall_avg is ',np.array(scores).mean())"
      ]
    },
    {
      "cell_type": "markdown",
      "metadata": {
        "id": "ZghV1bCtFL4H"
      },
      "source": [
        "Naive Bayes on average has worse accuracy and recall than Decision Tree on the dataset. This is likely due to correlations between features in the dataset that by definition the Naive Bayes classifier assumes are conditionally independent. Interestingly, both find PctKids2Par to be the most predictive feature"
      ]
    },
    {
      "cell_type": "markdown",
      "metadata": {
        "id": "j8VYhgSsFL4H"
      },
      "source": [
        "#  POLYNOMIAL SVC"
      ]
    },
    {
      "cell_type": "code",
      "execution_count": null,
      "metadata": {
        "id": "uVP1EhtXFL4H"
      },
      "outputs": [],
      "source": [
        "df=pd.read_csv('communities-crime-clean.csv')\n",
        "df['highCrime'] = np.where(df['ViolentCrimesPerPop']>0.1, 1, 0)\n",
        "Y = df['highCrime']\n",
        "fold=df['fold']\n"
      ]
    },
    {
      "cell_type": "code",
      "execution_count": null,
      "metadata": {
        "id": "YbtPdTCcFL4I",
        "outputId": "9798b73d-caf9-4dec-ad78-6ce961cb0b3e"
      },
      "outputs": [
        {
          "data": {
            "image/png": "[encoded data removed]",
            "text/plain": [
              "<Figure size 432x288 with 1 Axes>"
            ]
          },
          "metadata": {
            "needs_background": "light"
          },
          "output_type": "display_data"
        }
      ],
      "source": [
        "from sklearn.svm import SVC\n",
        "x=[]\n",
        "y=[]\n",
        "for k in range (1,5):\n",
        "    y.append([])\n",
        "for i in range (0,4):\n",
        "    for j in range (1,5):\n",
        "        poly_svc = SVC(C=2**i, kernel='poly', degree=j).fit(initial, Y)\n",
        "        scores = cross_val_score(poly_svc,initial,Y,fold,'accuracy',10)\n",
        "        y[j-1].append(np.mean(scores))\n",
        "    x.append(2**i)    \n",
        "\n",
        "plt.plot(x,y[0],'r-',\n",
        "         x,y[1],'g-',\n",
        "         x,y[2],'b-',\n",
        "         x,y[3],'y-')\n",
        "plt.show()"
      ]
    },
    {
      "cell_type": "markdown",
      "metadata": {
        "id": "zg6JgLCXFL4I"
      },
      "source": [
        "X-axis is error penalty (C) term Y-axis is accuracy\n",
        "Red=Degree 1 \n",
        "Green=Degree 2 \n",
        "Blue=Degree 3 \n",
        "Yellow=Degree 4\n",
        "Degree 2 is picked for best performance against linear model. Error penalty value of 8 is picked for best performance."
      ]
    },
    {
      "cell_type": "code",
      "execution_count": null,
      "metadata": {
        "id": "t0qIfrmxFL4I"
      },
      "outputs": [],
      "source": [
        "poly_svc = SVC(C=8, kernel='poly', degree=2).fit(initial, Y)\n",
        "scores = cross_val_score(poly_svc,initial,Y,fold,'accuracy',10)\n",
        "poly_svc_accuracy= np.mean(scores)*100\n"
      ]
    },
    {
      "cell_type": "code",
      "execution_count": null,
      "metadata": {
        "id": "OZxMT67PFL4J",
        "outputId": "badef3b7-1ae9-44d5-c14b-87dedcf59676"
      },
      "outputs": [
        {
          "name": "stdout",
          "output_type": "stream",
          "text": [
            "Cross validation precision is 82.33190451729901\n"
          ]
        }
      ],
      "source": [
        "scores = cross_val_score(poly_svc,initial,Y,fold,'precision',10)\n",
        "print ('Cross validation precision is', np.mean(scores)*100)"
      ]
    },
    {
      "cell_type": "code",
      "execution_count": null,
      "metadata": {
        "id": "4_Y8sw_fFL4J",
        "outputId": "6f543dad-acdf-43a1-8c46-bfd1d361a6be"
      },
      "outputs": [
        {
          "name": "stdout",
          "output_type": "stream",
          "text": [
            "Cross validation recall is 80.55999999999999\n"
          ]
        }
      ],
      "source": [
        "scores = cross_val_score(poly_svc,initial,Y,fold,'recall',10)\n",
        "print ('Cross validation recall is', np.mean(scores)*100)"
      ]
    },
    {
      "cell_type": "markdown",
      "metadata": {
        "id": "mb_q75UHFL4J"
      },
      "source": [
        "There is no reasonable method for evaluation of most predictive features with a Polynomial SVC. Compared with Linear SVC on this data set a polynomial SVC of degree 2 is able to slightly outperform the linear SVC on classification."
      ]
    },
    {
      "cell_type": "markdown",
      "metadata": {
        "id": "pZ87ylh3FL4K"
      },
      "source": [
        "# RANDOM FOREST"
      ]
    },
    {
      "cell_type": "code",
      "execution_count": null,
      "metadata": {
        "id": "BCmki15nFL4K"
      },
      "outputs": [],
      "source": [
        "#Decision Forest using a Random Forest algorithm. Nodes are chosen from a the best split of a random subset of the features and the best of a se"
      ]
    },
    {
      "cell_type": "code",
      "execution_count": null,
      "metadata": {
        "id": "6J-ijmT0FL4K"
      },
      "outputs": [],
      "source": [
        "from sklearn.ensemble import RandomForestClassifier\n",
        "from sklearn.tree import DecisionTreeClassifier, export_graphviz\n",
        "df=pd.read_csv('communities-crime-clean.csv')\n",
        "df['highCrime'] = np.where(df['ViolentCrimesPerPop']>0.1, 1, 0)\n",
        "initial=pd.read_csv('communities-crime-clean.csv')\n",
        "initial = initial.drop('communityname', 1)\n",
        "initial = initial.drop('ViolentCrimesPerPop', 1)\n",
        "initial = initial.drop('fold', 1)\n",
        "\n",
        "initial = initial.drop('state', 1)\n",
        "fold=df['fold']\n",
        "Y = df['highCrime']\n",
        "feature_name=list(initial)\n",
        "clf = RandomForestClassifier(n_estimators=10,max_features='sqrt')\n",
        "clf = clf.fit(initial, Y)\n",
        "#dot_data = tree.export_graphviz(clf, out_file=None, \n",
        "#                          class_names='highCrime',  \n",
        "#                          special_characters=True)  \n",
        "#graph = pydotplus.graph_from_dot_data(dot_data) "
      ]
    },
    {
      "cell_type": "code",
      "execution_count": null,
      "metadata": {
        "id": "jV50XPm2FL4K",
        "outputId": "42b8f932-2f3c-4778-8c8f-2f401db9e64d"
      },
      "outputs": [
        {
          "name": "stdout",
          "output_type": "stream",
          "text": [
            "feature importance is  [0.00621203 0.00533587 0.02936733 0.05580733 0.00407955 0.01908591\n",
            " 0.00367736 0.00598567 0.00606093 0.00523308 0.00812144 0.00253517\n",
            " 0.00328519 0.00542024 0.00590923 0.01608974 0.00427674 0.00647783\n",
            " 0.00700605 0.00560166 0.01601678 0.00284075 0.00735492 0.00657776\n",
            " 0.01151753 0.00947789 0.00482145 0.00317567 0.00926095 0.00839439\n",
            " 0.00208843 0.00382223 0.00569778 0.00694624 0.00765856 0.00800149\n",
            " 0.0066657  0.00246443 0.04356765 0.00749485 0.04060029 0.00812247\n",
            " 0.00712357 0.0710795  0.06771474 0.02067435 0.01132565 0.0051222\n",
            " 0.00270746 0.02108298 0.03912433 0.00461814 0.00615662 0.0057651\n",
            " 0.00540692 0.00158643 0.00614893 0.00543636 0.00447601 0.00497733\n",
            " 0.00592784 0.01171243 0.00815264 0.01196562 0.00512329 0.00648484\n",
            " 0.0050022  0.00478009 0.01938399 0.00627291 0.         0.00812545\n",
            " 0.00900409 0.02112911 0.0074737  0.00861882 0.00657131 0.02928793\n",
            " 0.0067481  0.0060121  0.00365597 0.00375324 0.00581426 0.0049028\n",
            " 0.00465056 0.00272226 0.00659927 0.00781574 0.00692476 0.00173294\n",
            " 0.00121073 0.0039165  0.00455299 0.00729859 0.00745898 0.00668921\n",
            " 0.00326768 0.00554755 0.00351875 0.00152754]\n",
            "length feature array 100\n",
            "index is  population\n",
            "index is  householdsize\n",
            "index is  racepctblack\n",
            "index is  racePctWhite\n",
            "index is  racePctAsian\n",
            "index is  racePctHisp\n",
            "index is  agePct12t21\n",
            "index is  agePct12t29\n",
            "index is  agePct16t24\n",
            "index is  agePct65up\n",
            "index is  numbUrban\n",
            "index is  pctUrban\n",
            "index is  medIncome\n",
            "index is  pctWWage\n",
            "index is  pctWFarmSelf\n",
            "index is  pctWInvInc\n",
            "index is  pctWSocSec\n",
            "index is  pctWPubAsst\n",
            "index is  pctWRetire\n",
            "index is  medFamInc\n",
            "index is  perCapInc\n",
            "index is  whitePerCap\n",
            "index is  blackPerCap\n",
            "index is  indianPerCap\n",
            "index is  AsianPerCap\n",
            "index is  OtherPerCap\n",
            "index is  HispPerCap\n",
            "index is  NumUnderPov\n",
            "index is  PctPopUnderPov\n",
            "index is  PctLess9thGrade\n",
            "index is  PctNotHSGrad\n",
            "index is  PctBSorMore\n",
            "index is  PctUnemployed\n",
            "index is  PctEmploy\n",
            "index is  PctEmplManu\n",
            "index is  PctEmplProfServ\n",
            "index is  PctOccupManu\n",
            "index is  PctOccupMgmtProf\n",
            "index is  MalePctDivorce\n",
            "index is  MalePctNevMarr\n",
            "index is  FemalePctDiv\n",
            "index is  TotalPctDiv\n",
            "index is  PersPerFam\n",
            "index is  PctFam2Par\n",
            "index is  PctKids2Par\n",
            "index is  PctYoungKids2Par\n",
            "index is  PctTeen2Par\n",
            "index is  PctWorkMomYoungKids\n",
            "index is  PctWorkMom\n",
            "index is  NumIlleg\n",
            "index is  PctIlleg\n",
            "index is  NumImmig\n",
            "index is  PctImmigRecent\n",
            "index is  PctImmigRec5\n",
            "index is  PctImmigRec8\n",
            "index is  PctImmigRec10\n",
            "index is  PctRecentImmig\n",
            "index is  PctRecImmig5\n",
            "index is  PctRecImmig8\n",
            "index is  PctRecImmig10\n",
            "index is  PctSpeakEnglOnly\n",
            "index is  PctNotSpeakEnglWell\n",
            "index is  PctLargHouseFam\n",
            "index is  PctLargHouseOccup\n",
            "index is  PersPerOccupHous\n",
            "index is  PersPerOwnOccHous\n",
            "index is  PersPerRentOccHous\n",
            "index is  PctPersOwnOccup\n",
            "index is  PctPersDenseHous\n",
            "index is  PctHousLess3BR\n",
            "index is  HousVacant\n",
            "index is  PctHousOccup\n",
            "index is  PctHousOwnOcc\n",
            "index is  PctVacantBoarded\n",
            "index is  PctVacMore6Mos\n",
            "index is  MedYrHousBuilt\n",
            "index is  PctHousNoPhone\n",
            "index is  PctWOFullPlumb\n",
            "index is  OwnOccLowQuart\n",
            "index is  OwnOccMedVal\n",
            "index is  OwnOccHiQuart\n",
            "index is  RentLowQ\n",
            "index is  RentMedian\n",
            "index is  RentHighQ\n",
            "index is  MedRent\n",
            "index is  MedRentPctHousInc\n",
            "index is  MedOwnCostPctInc\n",
            "index is  MedOwnCostPctIncNoMtg\n",
            "index is  NumInShelters\n",
            "index is  NumStreet\n",
            "index is  PctForeignBorn\n",
            "index is  PctBornSameState\n",
            "index is  PctSameHouse85\n",
            "index is  PctSameCity85\n",
            "index is  PctSameState85\n",
            "index is  LandArea\n",
            "index is  PopDens\n",
            "index is  PctUsePubTrans\n",
            "index is  LemasPctOfficDrugUn\n"
          ]
        }
      ],
      "source": [
        "y_pred = clf.predict(initial)\n",
        "feature_importance=clf.feature_importances_\n",
        "print(\"feature importance is \",feature_importance)\n",
        "print (\"length feature array\",len(feature_importance))\n",
        "for i in range (0,len(feature_importance)):\n",
        "    if(feature_importance[i]!=0):\n",
        "        print(\"index is \",feature_name[i])"
      ]
    },
    {
      "cell_type": "code",
      "execution_count": null,
      "metadata": {
        "id": "cj6chSvyFL4K",
        "outputId": "c5280802-1737-402e-bb6f-eb85cd37da0f"
      },
      "outputs": [
        {
          "name": "stdout",
          "output_type": "stream",
          "text": [
            "43\n"
          ]
        }
      ],
      "source": [
        "index_max = np.argmax(feature_importance)\n",
        "print(index_max)"
      ]
    },
    {
      "cell_type": "code",
      "execution_count": null,
      "metadata": {
        "id": "DIC8wPYlFL4K",
        "outputId": "effe3dd6-61ea-4f64-805d-475c1a0f7e76"
      },
      "outputs": [
        {
          "name": "stdout",
          "output_type": "stream",
          "text": [
            "coefficient[max] is  PctFam2Par\n"
          ]
        }
      ],
      "source": [
        "print('coefficient[max] is ',feature_name[index_max])"
      ]
    },
    {
      "cell_type": "code",
      "execution_count": null,
      "metadata": {
        "id": "Qeb0FGo2FL4L",
        "outputId": "702ce9df-9722-466b-9e47-2ba4ef040f2d"
      },
      "outputs": [
        {
          "name": "stdout",
          "output_type": "stream",
          "text": [
            "cross_val_accuracy is  [0.78       0.845      0.81       0.8241206  0.68844221 0.70854271\n",
            " 0.80904523 0.79396985 0.78894472 0.78894472]\n",
            "Cross validation accuracy is 78.37010050251256\n",
            "Cross validation precision is 84.37657627475252\n",
            "Cross validation recall is 81.36000000000001\n"
          ]
        }
      ],
      "source": [
        "fold=df['fold']\n",
        "scores = cross_val_score(clf, initial, Y,fold,'accuracy',10)\n",
        "print('cross_val_accuracy is ',scores) \n",
        "randomforest_accuracy = np.mean(scores)*100\n",
        "\n",
        "print ('Cross validation accuracy is', np.mean(scores)*100)\n",
        "scores = cross_val_score(clf,initial,Y,fold,'precision',10)\n",
        "print ('Cross validation precision is', np.mean(scores)*100)\n",
        "scores = cross_val_score(clf,initial,Y,fold,'recall',10)\n",
        "print ('Cross validation recall is', np.mean(scores)*100)"
      ]
    },
    {
      "cell_type": "code",
      "execution_count": null,
      "metadata": {
        "id": "ctmuN-1eFL4L",
        "outputId": "0fbd4b16-f622-4da7-c7aa-9629dadac05b"
      },
      "outputs": [
        {
          "data": {
            "text/plain": [
              "81.36000000000001"
            ]
          },
          "execution_count": 61,
          "metadata": {},
          "output_type": "execute_result"
        }
      ],
      "source": [
        "random_forest=np.mean(scores)*100\n",
        "random_forest"
      ]
    },
    {
      "cell_type": "markdown",
      "metadata": {
        "id": "gF0IjcSjFL4L"
      },
      "source": [
        "Performance is relatively consistent with that of the standard Decision Tree. The most predictive feature is the same as Decision Tree, PctKids2Par. Random Decision Forest does not seem to offer much for the increase in complexity of the model.Random Classifier shows good results in terms of metrics and would be a good model to predict the crime data."
      ]
    },
    {
      "cell_type": "markdown",
      "metadata": {
        "id": "QoHQishlFL4L"
      },
      "source": [
        "#  GRADIENT BOOSTING CLASSIFIER"
      ]
    },
    {
      "cell_type": "code",
      "execution_count": null,
      "metadata": {
        "id": "t0yBptXYFL4L"
      },
      "outputs": [],
      "source": [
        "clf = GradientBoostingClassifier()"
      ]
    },
    {
      "cell_type": "code",
      "execution_count": null,
      "metadata": {
        "id": "KLyY_MgpFL4L"
      },
      "outputs": [],
      "source": [
        "X = df.drop('ViolentCrimesPerPop', axis=1).drop('state', axis=1).drop('communityname', axis=1).drop('fold', axis=1).drop('highCrime', axis=1)\n",
        "features = list(X.columns)\n",
        "y =df[\"highCrime\"]"
      ]
    },
    {
      "cell_type": "code",
      "execution_count": null,
      "metadata": {
        "id": "ghGLaW1gFL4L",
        "outputId": "83ee8394-1f4b-475b-deb9-43c200cd3b0b"
      },
      "outputs": [
        {
          "data": {
            "text/plain": [
              "GradientBoostingClassifier()"
            ]
          },
          "execution_count": 64,
          "metadata": {},
          "output_type": "execute_result"
        }
      ],
      "source": [
        "clf.fit(X, y)"
      ]
    },
    {
      "cell_type": "code",
      "execution_count": null,
      "metadata": {
        "id": "QZCFQYVaFL4M"
      },
      "outputs": [],
      "source": [
        "acc_scores = cross_val_score(clf, X, y, cv=10, scoring='accuracy').mean()"
      ]
    },
    {
      "cell_type": "code",
      "execution_count": null,
      "metadata": {
        "id": "QeWKYoGbFL4M"
      },
      "outputs": [],
      "source": [
        "pre_scores = cross_val_score(clf, X, y, cv=10, scoring='precision').mean()"
      ]
    },
    {
      "cell_type": "code",
      "execution_count": null,
      "metadata": {
        "id": "uk0WNY9fFL4M"
      },
      "outputs": [],
      "source": [
        "rec_scores = cross_val_score(clf, X, y, cv=10, scoring='recall').mean()"
      ]
    },
    {
      "cell_type": "code",
      "execution_count": null,
      "metadata": {
        "id": "_GaxvFAMFL4M",
        "outputId": "645b9803-6238-4f52-f1a0-20a110ff62b9"
      },
      "outputs": [
        {
          "name": "stdout",
          "output_type": "stream",
          "text": [
            "Accuracy GradientBoostingClassifier is 0.7982160804020101\n"
          ]
        }
      ],
      "source": [
        "print ('Accuracy GradientBoostingClassifier is', acc_scores)"
      ]
    },
    {
      "cell_type": "code",
      "execution_count": null,
      "metadata": {
        "id": "hYRcyCNPFL4M",
        "outputId": "398e6661-058f-4bc0-9b0f-377a5063b2ee"
      },
      "outputs": [
        {
          "name": "stdout",
          "output_type": "stream",
          "text": [
            "Precision GradientBoostingClassifier is 0.8502142487040775\n"
          ]
        }
      ],
      "source": [
        "print ('Precision GradientBoostingClassifier is', pre_scores)"
      ]
    },
    {
      "cell_type": "code",
      "execution_count": null,
      "metadata": {
        "id": "ntgLuG5hFL4M",
        "outputId": "516564ea-ee3d-4041-e1ae-3703a4554e06"
      },
      "outputs": [
        {
          "name": "stdout",
          "output_type": "stream",
          "text": [
            "Recall is GradientBoostingClassifier is  0.8352\n"
          ]
        }
      ],
      "source": [
        "print ('Recall is GradientBoostingClassifier is ', rec_scores)"
      ]
    },
    {
      "cell_type": "markdown",
      "metadata": {
        "id": "HIKhy0qpFL4N"
      },
      "source": [
        "#  ACCURACY  RESULTS"
      ]
    },
    {
      "cell_type": "code",
      "execution_count": null,
      "metadata": {
        "id": "4Kxwi8KlFL4N"
      },
      "outputs": [],
      "source": [
        "# Tabulating all the scores \n",
        "from tabulate import tabulate\n",
        "info = {'Models':['Decision tree','SVC','KNN','Random Forest','Polynomial SVC','Gaussian NB','Gradient boosting Classifier'], 'Accuracy':[Decision_tree_accuracy,SVC_accuracy, accuracy_score(Y,y_pred)*100, randomforest_accuracy, poly_svc_accuracy, gaussian_accuracy, acc_scores*100]}"
      ]
    },
    {
      "cell_type": "code",
      "execution_count": null,
      "metadata": {
        "id": "onXoRckEFL4N",
        "outputId": "8c1161a4-20f8-452b-edd0-77c29353d443"
      },
      "outputs": [
        {
          "name": "stdout",
          "output_type": "stream",
          "text": [
            "╒══════════════════════════════╤════════════╕\n",
            "│ Models                       │   Accuracy │\n",
            "╞══════════════════════════════╪════════════╡\n",
            "│ Decision tree                │    83.5926 │\n",
            "├──────────────────────────────┼────────────┤\n",
            "│ SVC                          │    80.9284 │\n",
            "├──────────────────────────────┼────────────┤\n",
            "│ KNN                          │    81.36   │\n",
            "├──────────────────────────────┼────────────┤\n",
            "│ Random Forest                │    78.3701 │\n",
            "├──────────────────────────────┼────────────┤\n",
            "│ Polynomial SVC               │    76.2136 │\n",
            "├──────────────────────────────┼────────────┤\n",
            "│ Gaussian NB                  │    76.1608 │\n",
            "├──────────────────────────────┼────────────┤\n",
            "│ Gradient boosting Classifier │    79.8216 │\n",
            "╘══════════════════════════════╧════════════╛\n"
          ]
        }
      ],
      "source": [
        "print(tabulate(info,headers='keys',tablefmt='fancy_grid'))"
      ]
    },
    {
      "cell_type": "markdown",
      "metadata": {
        "id": "t-IiibGXFL4N"
      },
      "source": [
        "#  CONCLUSION"
      ]
    },
    {
      "cell_type": "markdown",
      "metadata": {
        "id": "FICrs4GCFL4N"
      },
      "source": [
        "We have applied various models including: Decision Trees, Gaussian NB, Linear SVC, Polynomial SVC,K means, Gradient Boosting Classifier and Random Forests. We also performed the 10 fold cross validation. Decision tree Classifier giving the most balanced results with respect to accuracy, precision, recall and F1 scoreout of three models for prediction of ‘Per Capita Violent Crimes’ feature."
      ]
    },
    {
      "cell_type": "markdown",
      "metadata": {
        "id": "FYLmffC0FL4N"
      },
      "source": [
        "![thank-you-poster-spectrum-brush-260nw-1153070891.jpg](attachment:thank-you-poster-spectrum-brush-260nw-1153070891.jpg)"
      ]
    },
    {
      "cell_type": "code",
      "execution_count": null,
      "metadata": {
        "id": "r4h6zHX6FL4N"
      },
      "outputs": [],
      "source": [
        ""
      ]
    }
  ],
  "metadata": {
    "kernelspec": {
      "display_name": "Python 3",
      "language": "python",
      "name": "python3"
    },
    "language_info": {
      "codemirror_mode": {
        "name": "ipython",
        "version": 3
      },
      "file_extension": ".py",
      "mimetype": "text/x-python",
      "name": "python",
      "nbconvert_exporter": "python",
      "pygments_lexer": "ipython3",
      "version": "3.7.6"
    },
    "colab": {
      "name": "CRIME PREDICTION PROJECT .ipynb",
      "provenance": []
    }
  },
  "nbformat": 4,
  "nbformat_minor": 0
}